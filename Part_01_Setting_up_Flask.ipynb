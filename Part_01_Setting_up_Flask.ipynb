{
 "cells": [
  {
   "cell_type": "markdown",
   "metadata": {
    "slideshow": {
     "slide_type": "slide"
    }
   },
   "source": [
    "<hr style=\"border: 6px solid#003262;\" />\n",
    "<br>\n",
    "\n",
    "\n",
    "<br>\n",
    "\n",
    "<div align=\"center\">\n",
    "    <img src= \"/content/datax_logos/DataX_blue_logo.png\" align=\"center\" width=\"25%\">\n",
    "</div>\n",
    "\n",
    "\n",
    "<br>\n",
    "\n",
    "# FLASK: SETTING UP A FLASK ENVIRONMENT (PART 1 OF 3)\n",
    "\n",
    "\n",
    "<br>\n",
    "\n",
    "\n",
    "**Author List:** Elias Castro Hernandez\n",
    "\n",
    "**About:** For more details see notebook **Part_00_START_HERE_Flask_Email** for more details."
   ]
  },
  {
   "cell_type": "markdown",
   "metadata": {
    "slideshow": {
     "slide_type": "subslide"
    }
   },
   "source": [
    "<hr style=\"border: 4px solid#003262;\" />\n",
    "\n",
    "#### CONTENTS\n",
    "\n",
    "> #### [PART 1: SETTING UP FLASK](#Part_1)\n",
    "> #### [PART 2: DESIGN, BEHAVIORS, AND STORAGE](#Part_2)\n",
    "> #### [PART 3: WRAP UP AND NEXT STEPS](#Part_3)"
   ]
  },
  {
   "cell_type": "markdown",
   "metadata": {},
   "source": [
    "#### APPENDIX\n",
    "\n",
    "> #### [PREREQUISITE KNOWLEDGE AND REQUIREMENTS](#Appendix_1)\n",
    "> #### [FLASK - HELLO WORLD](#Appendix_2)\n",
    "\n",
    "<br>\n"
   ]
  },
  {
   "cell_type": "markdown",
   "metadata": {},
   "source": [
    "<a id='Part_1'></a>\n",
    "\n",
    "<hr style=\"border: 2px solid#003262;\" />\n",
    "\n",
    "#### PART 1\n",
    "\n",
    "## **SETTING** UP **FLASK**\n",
    "\n",
    "\n",
    "<div align=\"center\" style=\"font-size:12px; font-family:FreeMono; font-weight: 100; font-stretch:ultra-condensed; line-height: 1.0; color:#2A2C2B\">\n",
    "    <img src=\"/content/flask_logo.png\" align=\"center\" width=\"20%\" padding=\"20\"><br>\n",
    "    <br>\n",
    "    Micro Web Framework Written in Python\n",
    "</div>\n",
    "\n",
    "<br>\n",
    "\n",
    "<br>\n",
    "\n",
    "[**Flask**](https://flask.palletsprojects.com/en/1.1.x/) is a microframework that is barebones by design. Flask has no [**data abstraction layer**](https://en.wikipedia.org/wiki/Database_abstraction_layer), does not perform [**form validation**](https://developer.mozilla.org/en-US/docs/Learn/Forms/Form_validation#What_is_form_validation), nor does it include custom packages if they already exist as a package/library, elsewere. This makes Flask particularly easy to customize, and leads to less bloaded systems.\n",
    "\n",
    ">For an accessible overview see [Harvard's CS50 lecture on using Flask](https://youtu.be/zdgYw-3tzfI).<br>\n",
    ">For a crash course (1-hr intensive), see the ['Learn Flask For Python'](https://youtu.be/Z1RJmh_OqeA) tutorial by [freeCodeCamp.org](https://www.freecodecamp.org/).\n",
    "\n",
    "<br>\n",
    "\n",
    "**NOTE:** For the purposes of these notebooks, we will be deploying a virtual machine containing a Linux Ubuntu distribution. As such, all installation instructions are for a Debian Linux OS. Adjust intallation commands as needed. \n",
    "\n",
    "##### CONTENTS:\n",
    "\n",
    "> [PART 1.1: SET UP AND WORKFLOW](#Part_1_1)<br>\n",
    "> [PART 1.2: BASIC FLASK UP-AND-RUNNING](#Part_1_2)"
   ]
  },
  {
   "cell_type": "markdown",
   "metadata": {},
   "source": [
    "<a id='Part_1_1'></a>\n",
    "\n",
    "<hr style=\"border: 1px solid#003262;\" />\n",
    "\n",
    "##### PART 1.1: SET UP AND WORKFLOW\n",
    "\n",
    "##### **Install Python3**\n",
    "\n",
    "https://www.python.org/downloads/\n",
    "\n",
    "```bash\n",
    "# recommended command-line approach for linux machines \n",
    "sudo apt-get install python3.6 \n",
    "```"
   ]
  },
  {
   "cell_type": "markdown",
   "metadata": {},
   "source": [
    "___\n",
    "\n",
    "##### **Install pip3**\n",
    "\n",
    "https://pip.pypa.io/en/stable/\n",
    "\n",
    "```bash\n",
    "# on a terminal\n",
    "sudo apt-get install python3-pip \n",
    "```"
   ]
  },
  {
   "cell_type": "markdown",
   "metadata": {},
   "source": [
    "___\n",
    "\n",
    "##### **Install virtualenv**\n",
    "\n",
    "https://virtualenv.pypa.io/en/latest/\n",
    "\n",
    "```bash\n",
    "### Install virtualenv ###\n",
    "# Debian, Ubuntu\n",
    "$ sudo apt-get install python-virtualenv\n",
    "```\n",
    "\n",
    "```bash\n",
    "# CentOS, Fedora\n",
    "$ sudo yum install python-virtualenv\n",
    "```\n",
    "\n",
    "```bash\n",
    "# Arch\n",
    "$ sudo pacman -S python-virtualenv\n",
    "```\n",
    "\n",
    "**Note:** If working Mac OS X, or Windows, follow [these](https://flask.palletsprojects.com/en/1.1.x/installation/#installation) instructions for installing virtualenv."
   ]
  },
  {
   "cell_type": "markdown",
   "metadata": {},
   "source": [
    "<br>\n",
    "\n",
    "**About virtualenv:** virtualenv allows users to create isolated environments for Python projects. This means that each project can be shared, collaborated upon, and modified regardless of the project dependencies -- since any dependencies, packages, and libraries are stored in directory files that are tied to the project itself and not the *local (working directory)* machine. To learn more:\n",
    "\n",
    "> [**Real Python (Python Virtual Environments: A Primer)**](https://realpython.com/python-virtual-environments-a-primer/)"
   ]
  },
  {
   "cell_type": "markdown",
   "metadata": {},
   "source": [
    "<a id='Part_1_2'></a>\n",
    "\n",
    "<hr style=\"border: 1px solid#003262;\" />\n",
    "\n",
    "##### PART 1.2: BASIC FLASK UP-AND-RUNNING\n",
    "\n",
    "##### **Create an Environment**\n",
    "\n",
    "We use virutal environments to manage dependencies for the project. Doing so ensures that each project is self contained and as such we can be sertain that all the required dependencies are present and will not affect other projects or the operating system itself. For complete installation instructions, see [here](https://flask.palletsprojects.com/en/1.1.x/installation/#installation). \n",
    "\n",
    "```bash\n",
    "# create environment and move to directory newly created folder\n",
    "$ mkdir flaskapp\n",
    "\n",
    "$ cd flaskapp\n",
    "\n",
    "# create a folder named venv, containing our virtual environment named venv\n",
    "$ python3 -m venv venv\n",
    "\n",
    "\n",
    "# Activate Environment\n",
    "$ . venv/bin/activate\n",
    "```"
   ]
  },
  {
   "cell_type": "markdown",
   "metadata": {},
   "source": [
    "___\n",
    "\n",
    "<br>\n",
    "\n",
    "<div align=\"center\" style=\"font-size:12px; font-family:FreeMono; font-weight: 100; font-stretch:ultra-condensed; line-height: 1.0; color:#2A2C2B\">\n",
    "    <img src=\"/content/flask sanity check 1.png\" align=\"center\" width=\"40%\" padding=\"20\"><br>\n",
    "    <br>\n",
    "    **Sanity Check** You'll know you've done everything correctly if you see the venv referenced in the terminal (green arrow)\n",
    "<div>\n",
    "\n",
    "___"
   ]
  },
  {
   "cell_type": "markdown",
   "metadata": {},
   "source": [
    "```bash\n",
    "### Install Flask in venv ###\n",
    "$ pip install Flask\n",
    "```"
   ]
  },
  {
   "cell_type": "markdown",
   "metadata": {},
   "source": [
    "<br>\n",
    "\n",
    "**Note:** The following work focuses on building the email client site. If you want to see how to build the simpliest of site -- i.e. Flask's \"Hello World\" -- see [Appendix II](#Appendix_2)"
   ]
  },
  {
   "cell_type": "markdown",
   "metadata": {},
   "source": [
    "<a id='Part_2'></a>\n",
    "\n",
    "<hr style=\"border: 2px solid#003262;\" />\n",
    "\n",
    "#### PART 2\n",
    "\n",
    "## **STRUCTURE**, DESIGN, **BEHAVIORS**, AND STORAGE\n",
    "\n",
    "<div align=\"center\" style=\"font-size:12px; font-family:FreeMono; font-weight: 100; font-stretch:ultra-condensed; line-height: 1.0; color:#2A2C2B\">\n",
    "    <img src=\"/content/flask_simple_logo.png\" align=\"center\" width=\"15%\" padding=\"20\"><br>\n",
    "    <br>\n",
    "</div>\n",
    "\n",
    "\n",
    "Now that we have a [**Flask**](https://flask.palletsprojects.com/en/1.1.x/) environment up-and-running we want to establish a structure that allow us to build our email client site. We then want to utilize [**Hypertext Markup Language (HTML)**](https://en.wikipedia.org/wiki/HTML) and [**Cascading Style Sheets (CSS)**](https://en.wikipedia.org/wiki/Cascading_Style_Sheets)to describe how to structure web pages, and establish how the site should act on the markup language -- e.g. color, layout, fonts, etc. \n",
    "\n",
    "\n",
    "##### CONTENTS:\n",
    "\n",
    "> [PART 2.1: SET UP NESTED DIRECTORIES](#Part_2_1)<br>\n",
    "> [PART 2.2: SET BASIC HTML &amp; CSS](#Part_2_2)<br>\n",
    "> [PART 2.3: IMPLEMENT DATABASE](#Part_2_3)"
   ]
  },
  {
   "cell_type": "markdown",
   "metadata": {},
   "source": [
    "<a id='Part_2_1'></a>\n",
    "\n",
    "<hr style=\"border: 1px solid#003262;\" />\n",
    "\n",
    "##### PART 2.1: SET UP NESTED DIRECTORIES\n",
    "\n",
    "##### **Create an Environment**\n",
    "\n",
    "We use virutal environments to manage dependencies for the project. Doing so ensures that each project is self contained and as such we can be sertain that all the required dependencies are present and will not affect other projects or the operating system itself. For complete installation instructions, see [here](https://flask.palletsprojects.com/en/1.1.x/installation/#installation). \n",
    "\n",
    "```bash\n",
    "# create environment and move to directory newly created folder\n",
    "$ mkdir flaskapp\n",
    "\n",
    "$ cd flaskapp\n",
    "\n",
    "# create a folder named venv, containing our virtual environment named venv\n",
    "$ python3 -m venv venv\n",
    "\n",
    "\n",
    "# Activate Environment\n",
    "$ . venv/bin/activate\n",
    "```\n"
   ]
  },
  {
   "cell_type": "markdown",
   "metadata": {},
   "source": []
  },
  {
   "cell_type": "code",
   "execution_count": null,
   "metadata": {},
   "outputs": [],
   "source": []
  },
  {
   "cell_type": "code",
   "execution_count": null,
   "metadata": {},
   "outputs": [],
   "source": []
  },
  {
   "cell_type": "markdown",
   "metadata": {},
   "source": [
    "<a id='Part_2_2'></a>\n",
    "\n",
    "<hr style=\"border: 1px solid#003262;\" />\n",
    "\n",
    "##### PART 2.2: SET BASIC HTML &amp; CSS\n",
    "\n"
   ]
  },
  {
   "cell_type": "code",
   "execution_count": null,
   "metadata": {},
   "outputs": [],
   "source": []
  },
  {
   "cell_type": "code",
   "execution_count": null,
   "metadata": {},
   "outputs": [],
   "source": []
  },
  {
   "cell_type": "code",
   "execution_count": null,
   "metadata": {},
   "outputs": [],
   "source": []
  },
  {
   "cell_type": "markdown",
   "metadata": {},
   "source": [
    "<a id='Part_2_3'></a>\n",
    "\n",
    "<hr style=\"border: 1px solid#003262;\" />\n",
    "\n",
    "##### PART 2.3: IMPLEMENT DATABASE"
   ]
  },
  {
   "cell_type": "code",
   "execution_count": null,
   "metadata": {},
   "outputs": [],
   "source": []
  },
  {
   "cell_type": "code",
   "execution_count": null,
   "metadata": {},
   "outputs": [],
   "source": []
  },
  {
   "cell_type": "code",
   "execution_count": null,
   "metadata": {},
   "outputs": [],
   "source": []
  },
  {
   "cell_type": "markdown",
   "metadata": {},
   "source": [
    "<a id='Part_3'></a>\n",
    "\n",
    "<hr style=\"border: 2px solid#003262;\" />\n",
    "\n",
    "#### PART 3\n",
    "\n",
    "## **WRAP-UP** AND **NEXT** STEPS\n",
    "\n",
    "\n",
    "<div align=\"center\">\n",
    "    <img src= \"/content/datax_logos/DataX_icon_logo.png\" align=\"center\" width=\"8%\" padding=\"20\">\n",
    "</div>\n",
    "\n",
    "<br>\n",
    "\n",
    "As you may have started noticed, there is much more than can be done using Flask. Wanting to learn other uses of Flask?  Visit the [Data-X website (**url needed**)]() to learn more, or use the following links to topics of interest:\n",
    "\n",
    "> [**INTRODUCTION TO AWS + FLASK: url needed**]() Shows you how to deploy your flask environment in an elastic server <br>\n",
    "> [**DASHBOARDS USING D3.js + FLASK: url needed**]() Covers how to deploy a dashboard website with dynamic plots using D3.js<br>\n",
    "> [**PRODUCTIZED MACHINE LEARNING MODELS USING FLASK: url needed**]() Introduces how to deploy machine learning models that are accessible via the web\n",
    "\n",
    "<br>\n",
    "\n",
    "<br>\n",
    "\n",
    "\n"
   ]
  },
  {
   "cell_type": "markdown",
   "metadata": {},
   "source": [
    "<a id='Appendix_1'></a>\n",
    "\n",
    "<hr style=\"border: 6px solid#003262;\" />\n",
    "\n",
    "\n",
    "#### APPENDIX I\n",
    "\n",
    "\n",
    "## PREREQUISITE **KNOWLEDGE** AND **REQUIREMENTS**\n",
    "\n",
    "\n",
    "In order to create a barebones website that communicates with existing API's to generate emails, we will need to connect several components. Specifically, we will to spin up an [**AWS server**](https://aws.amazon.com/) account, create an [**Elastic Compute Cloud (EC2)**](https://aws.amazon.com/ec2/) instance, link our [**Flask**](https://flask.palletsprojects.com/en/1.1.x/) environment to the [**Google Sheets API**](https://developers.google.com/sheets/api), and then send emails using [**smtplib**](https://docs.python.org/3/library/smtplib.html) via either a local or remote server. There are many theoretical and applied topics that underlie the various components of technology stack just mentioned. For the sake of focusing on the implementation, none of the notebooks in this series will deepdive into any of the required components. Intead, the content is purposefully accessible and designed for selflearning with the assumption that the user is familiar with the above concepts. In case you are not yet ready but want to follow along, following are some helpful links to help you with some of the prerequisites.<br>\n",
    "\n",
    "\n",
    "##### **PYTHON**\n",
    "This notebook and the executable files are built using [Python](https://www.python.org/) and relies on common Python packages (e.g. [NumPy](https://numpy.org/)) for operation. If you have a lot of programming experience in a different language (e.g. C/C++/Matlab/Java/Javascript), you will likely be fine, otherwise:\n",
    "\n",
    "> [**Python (EDX free)**](https://www.edx.org/course?search_query=python)<br>\n",
    "> [**Python (Coursera free)**](https://www.coursera.org/search?query=python)\n",
    "\n",
    "##### **HTML+CSS**\n",
    "[**Hypertext Markup Language (HTML)**](https://en.wikipedia.org/wiki/HTML) and [**Cascading Style Sheets (CSS)**](https://en.wikipedia.org/wiki/Cascading_Style_Sheets) are core technologies for building web pages. HTML describes the structure of web pages, while CSS is an independent language that acts on the markup language, the color, layout, and fonts. Add graphics and scripting to HTML+CSS and you have the basis for building web pages and web applications. Know how to utilize HTML+CSS is not required for this notebook. However, if you are wanting to learn more see the following:\n",
    "\n",
    "> [**W3C.org (Tutorials and Courses)**](https://www.w3.org/2002/03/tutorials.html#webdesign_htmlcss)\n",
    "\n",
    "\n",
    "##### **AMAZON ELASTIC COMPUTE CLOUD (EC2)**\n",
    "Amazon Web Services (AWS) is the leading cloud service provider in both revenue and market share. As such, this notebook and associated scripts are written to function with AWS's Elastic Compute Clud (EC2) service. However, several competitors such as Microsoft's [**Azure**](https://azure.microsoft.com/en-us/) and Google's [**GCP**](https://cloud.google.com/) provide entry pricing and free credits to test out their service. If you elect to use AWS and are not fully familiar with the process of setting a web server, the following are a few approachable resources for using AWS:\n",
    "\n",
    "> [**How to Get Started with Amazon EC2**](https://docs.aws.amazon.com/AWSEC2/latest/UserGuide/concepts.html#how-to-get-started) <br>\n",
    "\n",
    "\n",
    "##### **AMAZON SIMPLE EMAIL SERVICE (SES)**\n",
    "Amazon Simple Email Service (SES) is a cost-effective way for sending and receiving emails. In case you want to learn more, see the following accessible resource:\n",
    "\n",
    "> [**EC2 INSTANCE USING LINUX**](https://docs.aws.amazon.com/ses/) <br>\n",
    "\n",
    "\n",
    "##### **SMTPLIB**\n",
    "Python's **smtplib** package is a powerful library that facilitates the sending of emails from either local or remote servers. This free package is a great alternative to services such as AWS's SES.\n",
    "\n",
    "> [**Real Python: Sending Emails Using SMTPLIB**](https://realpython.com/python-send-email/)"
   ]
  },
  {
   "cell_type": "markdown",
   "metadata": {},
   "source": [
    "<a id='Appendix_2'></a>\n",
    "\n",
    "<hr style=\"border: 2px solid#003262;\" />\n",
    "\n",
    "#### APPENDIX II\n",
    "\n",
    "\n",
    "## QUICKSTART **FLASK** - **HELLO WORLD**\n",
    "\n",
    "<br>\n",
    "\n",
    "The following quickstart example assumes that Flask in installed. For detailed instructions what the code is doing, see [here](https://flask.palletsprojects.com/en/1.1.x/quickstart/).  The following cell should be saved as .py file. See **Flask_helloworld.py** in **flaskTestApp** folder, for reference."
   ]
  },
  {
   "cell_type": "markdown",
   "metadata": {},
   "source": [
    "```python\n",
    "## -------------------------------------------------------------------- ##\n",
    "# Import Flask Class\n",
    "from flask import Flask\n",
    "\n",
    "# create instance of class '__name__' since we are using a single module\n",
    "app = Flask(__name__)\n",
    "\n",
    "## routing binds urls to functions via decorators ##\n",
    "@app.route('/')\n",
    "def hello_world():\n",
    "    return 'Hello World!'\n",
    "## -------------------------------------------------------------------- ##\n",
    "```\n",
    "**Note:** using the ```route()``` generator tells flask to generate URL's when that particular function is called, and to return the message and display it on a browser."
   ]
  },
  {
   "cell_type": "markdown",
   "metadata": {},
   "source": [
    "___\n",
    "\n",
    "#### **Quick Start (Run Application -- Hello World)**\n",
    "\n",
    "For alternate ways of running the application, see [here](https://flask.palletsprojects.com/en/1.1.x/quickstart/)."
   ]
  },
  {
   "cell_type": "markdown",
   "metadata": {},
   "source": [
    "```bash\n",
    "# create simple builtin sever \n",
    "\n",
    "$ export FLASK_APP=hello.py\n",
    "\n",
    "$ python -m flak run\n",
    "```"
   ]
  },
  {
   "cell_type": "markdown",
   "metadata": {},
   "source": [
    "___\n",
    "\n",
    "<div align=\"center\" style=\"font-size:12px; font-family:FreeMono; font-weight: 100; font-stretch:ultra-condensed; line-height: 1.0; color:#2A2C2B\">\n",
    "    <img src=\"/content/flask sanity check 2.png\" align=\"center\" width=\"50%\" padding=\"20\"><br>\n",
    "    <br>\n",
    "    \n",
    "<div>"
   ]
  },
  {
   "cell_type": "markdown",
   "metadata": {},
   "source": [
    "\n",
    "**Sanity Check:** head over to the given http, where you should see the 'Hello World!' greeting. If your localhost site does not appear, see how to [debugg here](https://flask.palletsprojects.com/en/1.1.x/quickstart/#what-to-do-if-the-server-does-not-start).\n"
   ]
  },
  {
   "cell_type": "markdown",
   "metadata": {},
   "source": [
    "<hr style=\"border: 6px solid#003262;\" />\n"
   ]
  }
 ],
 "metadata": {
  "anaconda-cloud": {},
  "celltoolbar": "Slideshow",
  "kernelspec": {
   "display_name": "Python 3",
   "language": "python",
   "name": "python3"
  },
  "language_info": {
   "codemirror_mode": {
    "name": "ipython",
    "version": 3
   },
   "file_extension": ".py",
   "mimetype": "text/x-python",
   "name": "python",
   "nbconvert_exporter": "python",
   "pygments_lexer": "ipython3",
   "version": "3.6.10"
  },
  "livereveal": {
   "scroll": true
  },
  "rise": {
   "enable_chalkboard": true,
   "height": "90%",
   "width": "100%"
  }
 },
 "nbformat": 4,
 "nbformat_minor": 2
}
