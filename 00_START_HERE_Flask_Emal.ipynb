{
 "cells": [
  {
   "cell_type": "markdown",
   "metadata": {
    "slideshow": {
     "slide_type": "slide"
    }
   },
   "source": [
    "<hr style=\"border: 5px solid#0B0B0B;\" />\n",
    "<br>\n",
    "\n",
    "\n",
    "<br>\n",
    "\n",
    "<div align=\"center\">\n",
    "    <img src= \"/content/innovation_engineering.png\" align=\"center\" width=\"30%\">\n",
    "</div>\n",
    "\n",
    "\n",
    "<br>\n",
    "\n",
    "\n",
    "# FLASK: WEB DEVELOPMENT FOR RAPID AND SCALABLE DEPLOYMENT\n",
    "\n",
    "\n",
    "<br>\n",
    "\n",
    "\n",
    "**Author List:** Elias Castro Hernandez\n",
    "\n",
    "**About (TL/DR):** The following collection of notebooks introduces developers and data scientists to web development using Flask. Flask is one of many available web server gateway interface (WSGI) tools that enable rapid and scalable websites and apps with a relatively accessible learning curve. The barebones capacity of Flask is particularly valuable when prototyping and iterating upon products, services, and machine learning applications.\n",
    "\n",
    "**Learning Goal(s):** Gain an understanding of how to utilize available libraries and packages to quickly build products and services -- in real-life settings, using web-first methodology, driven by data, and end-to-end. In particular, learn how to build a bare-bones flask environment for handling large scale email automation tasks.\n",
    "\n",
    "**Target User:** Data scientists, applied machine learning engineers, and developers\n",
    "\n",
    "**Prerequisite Knowledge:** (1) Python, (2) HTML, and (3) CSS\n",
    "\n",
    "**Copyright:** Content curation has been used to expediate the creation of the following learning materials. Credit and copyright belong to the content creators used in facilitating this content. Please support the creators of the resources used by frequenting their sites, and social media.\n",
    "\n",
    "\n",
    "<br>\n"
   ]
  },
  {
   "cell_type": "markdown",
   "metadata": {},
   "source": [
    "<hr style=\"border: 2px solid#0B0B0B;\" />\n",
    "\n",
    "#### ABOUT\n",
    "\n",
    "<br>\n",
    "\n",
    "<div align=\"left\" style=\"font-size:28px; font-family:FreeMono; font-weight: 100; font-stretch:ultra-condensed; line-height: 1.0; color:#2A2C2B; width:100%\">\n",
    "    If you think about the web, the web has been an incredible development platform, and everything today is developed on the web.\n",
    "<div>    \n",
    "<br>\n",
    "<br>    \n",
    "<div align=\"right\" style=\"font-size:22px\"<strong>-William Mougayar</strong> </div>"
   ]
  },
  {
   "cell_type": "code",
   "execution_count": 31,
   "metadata": {},
   "outputs": [
    {
     "data": {
      "text/html": [
       "\n",
       "    <table align=\"center\" style=\"width:100%; font-size:22px; font-family:FreeMono; font-weight: 100; font-stretch:ultra-condensed; line-height: 1.2; color:#2A2C2B\">\n",
       "      <tr>\n",
       "          <th style=\"font-size:18px; font-family:FreeMono; font-weight: 100; font-stretch:ultra-condensed; line-height: 1.2; color:#2A2C2B; vertical-align:top; width:60%\">  \n",
       "              <div align=\"left\" style=\"vertical-align:top\">\n",
       "               The web has had a tremendous influence in the democratization of publishing and development. Anyone with a computer connected to the internet can access information stored in servers all over the world, and can, just as easily, create a site tailored to serving information in whatever manner the developer choses. In today's world, the standard way of facilitating the flow of information, or the functionality to manipulate data via other programs, is done through differing versions of an application programming interface (API). This abstraction of underlying implementation limits exposure to only those objects or actions needed by a developer. This collection of notebooks and videos covers the creation of a barebones website that then relies on API's to handle data storage and functionality.\n",
       "              </div>  \n",
       "          </th>\n",
       "          <th style=\"font-size:16px; font-family:FreeMono; font-weight: 100; font-stretch:ultra-condensed; line-height: 1.2; color:#2A2C2B; vertical-align:top; width:40%\">\n",
       "              <div align=\"center\">\n",
       "                  <video width=\"85%\" height=\"100%\" controls> \n",
       "                      <source src=\"/content/about_flask_collection.mp4\">\n",
       "                  </video>\n",
       "              </div>\n",
       "          </th>\n",
       "      </tr>\n",
       "    </table>\n",
       "    "
      ],
      "text/plain": [
       "<IPython.core.display.HTML object>"
      ]
     },
     "execution_count": 31,
     "metadata": {},
     "output_type": "execute_result"
    }
   ],
   "source": [
    "from IPython.display import HTML\n",
    "HTML(\"\"\"\n",
    "    <table align=\"center\" style=\"width:100%; font-size:22px; font-family:FreeMono; font-weight: 100; font-stretch:ultra-condensed; line-height: 1.2; color:#2A2C2B\">\n",
    "      <tr>\n",
    "          <th style=\"font-size:18px; font-family:FreeMono; font-weight: 100; font-stretch:ultra-condensed; line-height: 1.2; color:#2A2C2B; vertical-align:top; width:60%\">  \n",
    "              <div align=\"left\" style=\"vertical-align:top\">\n",
    "               The web has had a tremendous influence in the democratization of publishing and development. Anyone with a computer connected to the internet can access information stored in servers all over the world, and can, just as easily, create a site tailored to serving information in whatever manner the developer choses. In today's world, the standard way of facilitating the flow of information, or the functionality to manipulate data via other programs, is done through differing versions of an application programming interface (API). This abstraction of underlying implementation limits exposure to only those objects or actions needed by a developer. This collection of notebooks and videos covers the creation of a barebones website that then relies on API's to handle data storage and functionality.\n",
    "              </div>  \n",
    "          </th>\n",
    "          <th style=\"font-size:16px; font-family:FreeMono; font-weight: 100; font-stretch:ultra-condensed; line-height: 1.2; color:#2A2C2B; vertical-align:top; width:40%\">\n",
    "              <div align=\"center\">\n",
    "                  <video width=\"85%\" height=\"100%\" controls> \n",
    "                      <source src=\"/content/about_flask_collection.mp4\">\n",
    "                  </video>\n",
    "              </div>\n",
    "          </th>\n",
    "      </tr>\n",
    "    </table>\n",
    "    \"\"\")"
   ]
  },
  {
   "cell_type": "markdown",
   "metadata": {},
   "source": [
    "<hr style=\"border: 1px solid#0B0B0B;\" />\n",
    "\n",
    "\n",
    "### FLASK: END-TO-END PROJECT\n",
    "\n",
    "> #### **PART 00: OPTIONAL** -- ABOUT AND MOTIVATION\n",
    "\n",
    "> #### **PART 01: OPTIONAL** -- SETTING UP REMOTE SEVER (AWS)\n",
    "\n",
    "<br>\n",
    "    \n",
    "> #### **PART 1:** SETTING UP A FLASK ENVIRONMENT\n",
    "\n",
    "> #### **PART 2:** SETTING UP EMAIL CLIENT\n",
    "\n",
    "> #### **PART 3:** CREATE ACCESS TO GOOGLE DRIVE API\n",
    "\n",
    "> #### **PART 4:** CREATE PRETTY (HTML) EMAIL BODY\n",
    "\n",
    "> #### **PART 5:** SENDING EMAILS FROM EC2 INSTANCE\n",
    "\n",
    "> #### **PART 6:** WRAP UP AND NEXT STEPS\n",
    "\n"
   ]
  },
  {
   "cell_type": "markdown",
   "metadata": {},
   "source": [
    "<hr style=\"border: 4px solid#0B0B0B;\" />"
   ]
  }
 ],
 "metadata": {
  "anaconda-cloud": {},
  "celltoolbar": "Slideshow",
  "kernelspec": {
   "display_name": "Python 3",
   "language": "python",
   "name": "python3"
  },
  "language_info": {
   "codemirror_mode": {
    "name": "ipython",
    "version": 3
   },
   "file_extension": ".py",
   "mimetype": "text/x-python",
   "name": "python",
   "nbconvert_exporter": "python",
   "pygments_lexer": "ipython3",
   "version": "3.6.10"
  },
  "livereveal": {
   "scroll": true
  },
  "rise": {
   "enable_chalkboard": true,
   "height": "90%",
   "width": "100%"
  }
 },
 "nbformat": 4,
 "nbformat_minor": 2
}
