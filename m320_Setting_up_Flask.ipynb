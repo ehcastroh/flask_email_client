{
 "cells": [
  {
   "cell_type": "markdown",
   "metadata": {
    "slideshow": {
     "slide_type": "slide"
    }
   },
   "source": [
    "<hr style=\"border: 6px solid#003262;\" />\n",
    "\n",
    "<div align=\"center\">\n",
    "    <img src= \"/assets/content/datax_logos/DataX_blue_wide_logo.png\" align=\"center\" width=\"100%\">\n",
    "</div>\n",
    "\n",
    "\n",
    "<br>\n",
    "\n",
    "# **FLASK (m320):** EASY WEB DEVELOPMENT FOR RAPID DEPLOYMENT\n",
    "\n",
    "<br>\n",
    "\n",
    "\n",
    "**Author List (in no particular order):** [Ikhlaq Sidhu](https://ikhlaq-sidhu.com/), [Elias Castro Hernandez](https://www.linkedin.com/in/ehcastroh/), and [Debbie Yuen](http://www.debbiecyuen.me/) \n",
    "\n",
    "**About (TL/DR):** The following collection of notebooks introduces developers and data scientists to web development using Flask. Flask is one of many available web server gateway interface (WSGI) tools that enable rapid and scalable websites and apps with a relatively accessible learning curve. The barebones capacity of Flask is particularly valuable when prototyping and iterating upon products, services, and machine learning applications.\n",
    "\n",
    "**Learning Goal(s):** Gain an understanding of how to utilize available libraries and packages to quickly build products and services -- in real-life settings, using web-first methodology, driven by data, and end-to-end. In particular, learn how to build a bare-bones flask environment that can then be repurposed to (1) handle email automation tasks, (2) deploy ML models in real-time, and (3) create engaging dashboards using D3.js.\n",
    "\n",
    "**Associated Materials:** None\n",
    "\n",
    "**Keywords (Tags):** flask, flask-sqlalchemy, flask-web, flask-application, website, webapp, web-app, data-x, uc-berkeley-engineering\n",
    "\n",
    "**Prerequisite Knowledge:** (1) Python, (2) HTML, and (3) CSS\n",
    "\n",
    "**Target User:** Data scientists, applied machine learning engineers, and developers\n",
    "\n",
    "**Copyright:** Content curation has been used to expedite the creation of the following learning materials. Credit and copyright belong to the content creators used in facilitating this content. Please support the creators of the resources used by frequenting their sites, and social media.\n"
   ]
  },
  {
   "cell_type": "markdown",
   "metadata": {},
   "source": [
    "<hr style=\"border: 4px solid#003262;\" />\n",
    "\n",
    "<a name='Part_table_contents' id=\"Part_table_contents\"></a>"
   ]
  },
  {
   "cell_type": "markdown",
   "metadata": {
    "slideshow": {
     "slide_type": "subslide"
    }
   },
   "source": [
    "\n",
    "\n",
    "#### CONTENTS\n",
    "\n",
    "> #### [PART 0: ABOUT AND MOTIVATION](#Part_0)\n",
    "> #### [PART 1: SETTING UP FLASK](#Part_1)\n",
    "> #### [PART 2: DESIGN, BEHAVIORS, AND STORAGE](#Part_2)\n",
    "> #### [PART 3: WRAP UP AND NEXT STEPS](#Part_3)"
   ]
  },
  {
   "cell_type": "markdown",
   "metadata": {},
   "source": [
    "#### APPENDIX\n",
    "\n",
    "> #### [PREREQUISITE KNOWLEDGE AND REQUIREMENTS](#Appendix_1)\n",
    "> #### [REFERENCES AND ADDITIONAL RESOURCES](#Appendix_2)\n",
    "> #### [FLASK - HELLO WORLD](#Appendix_3)\n",
    "\n",
    "<br>\n"
   ]
  },
  {
   "cell_type": "markdown",
   "metadata": {},
   "source": [
    "<a id='Part_0'></a>\n",
    "\n",
    "<hr style=\"border: 2px solid#003262;\" />\n",
    "\n",
    "#### PART 0\n",
    "\n",
    "## **ABOUT** AND **MOTIVATION**"
   ]
  },
  {
   "cell_type": "markdown",
   "metadata": {},
   "source": [
    "<div align=\"center\" style=\"font-size:12px; font-family:FreeMono; font-weight: 100; font-stretch:ultra-condensed; line-height: 1.0; color:#2A2C2B\">\n",
    "  <a href=\"https://youtu.be/L-7o7dcbQWo\">\n",
    "    <img src=\"assets/content/images/FlaskPart1_youtube.png\" align=\"center\" width=\"50%\" padding=\"10px\"/>\n",
    "  </a><br>\n",
    "</div>"
   ]
  },
  {
   "cell_type": "markdown",
   "metadata": {},
   "source": [
    "<a id='Part_1'></a>\n",
    "\n",
    "<hr style=\"border: 2px solid#003262;\" />\n",
    "\n",
    "#### PART 1\n",
    "\n",
    "## **SETTING** UP **FLASK**\n",
    "\n",
    "\n",
    "<div align=\"center\" style=\"font-size:12px; font-family:FreeMono; font-weight: 100; font-stretch:ultra-condensed; line-height: 1.0; color:#2A2C2B\">\n",
    "    <img src=\"assets/content/images/flask_drawing.png\" align=\"center\" width=\"40%\" padding=\"10\"><br>\n",
    "    <br>\n",
    "    Web Microframework Written in Python\n",
    "</div>\n",
    "\n",
    "<br>\n",
    "\n",
    "<br>\n",
    "\n",
    "[**Flask**](https://flask.palletsprojects.com/en/1.1.x/) is a microframework that is barebones by design. Flask has no [**data abstraction layer**](https://en.wikipedia.org/wiki/Database_abstraction_layer), does not perform [**form validation**](https://developer.mozilla.org/en-US/docs/Learn/Forms/Form_validation#What_is_form_validation), nor does it include custom packages if they already exist as a package/library, elsewhere. This makes Flask particularly easy to customize, and leads to less bloated systems.\n",
    "\n",
    ">For an accessible overview see [Harvard's CS50 lecture on using Flask](https://youtu.be/zdgYw-3tzfI).<br>\n",
    ">For a crash course (1-hr intensive), see the ['Learn Flask For Python'](https://youtu.be/Z1RJmh_OqeA) tutorial by [freeCodeCamp.org](https://www.freecodecamp.org/).\n",
    "\n",
    "<br>\n",
    "\n",
    "<strong style=\"color:red\">KEY CONSIDERATION:</strong> Some of the following content may be written for machines running on Linux or Mac operating systems. If you are working on a Windows machine, you will need to enable the Linux Bash Shell, or adjust Shell commands to PowerShell syntax. A tutorial on how to enable the Linux Bash Shell on Windows 10 can be found [here](https://youtu.be/xzgwDbe7foQ).\n",
    "\n",
    "#### CONTENTS:\n",
    "\n",
    "> [PART 1.1: SET UP AND WORKFLOW](#Part_1_1)<br>\n",
    "> [PART 1.2: BASIC FLASK UP-AND-RUNNING](#Part_1_2)"
   ]
  },
  {
   "cell_type": "markdown",
   "metadata": {},
   "source": [
    "<a id='Part_1_1'></a>\n",
    "\n",
    "<hr style=\"border: 1px solid#003262;\" />\n",
    "\n",
    "#### PART 1.1: SET UP AND WORKFLOW\n",
    "\n",
    "<br>\n",
    "\n",
    "<div align=\"center\" style=\"font-size:12px; font-family:FreeMono; font-weight: 100; font-stretch:ultra-condensed; line-height: 1.0; color:#2A2C2B\">\n",
    "    <img src=\"/assets/content/images/greens-04.png\" align=\"center\" width=\"40%\" padding=\"10\"><br>\n",
    "    <br>\n",
    "    Basic Flask Stack\n",
    "</div>\n",
    "\n",
    "<br>\n",
    "\n",
    "##### **Install Python3**\n",
    "\n",
    "https://www.python.org/downloads/\n",
    "\n",
    "```bash\n",
    "# recommended command-line approach for linux machines \n",
    "sudo apt-get install python3.6 \n",
    "```"
   ]
  },
  {
   "cell_type": "markdown",
   "metadata": {},
   "source": [
    "___\n",
    "\n",
    "##### **Install pip3**\n",
    "\n",
    "https://pip.pypa.io/en/stable/\n",
    "\n",
    "```bash\n",
    "# on a terminal\n",
    "sudo apt-get install python3-pip \n",
    "```"
   ]
  },
  {
   "cell_type": "markdown",
   "metadata": {},
   "source": [
    "___\n",
    "\n",
    "##### **Install virtualenv**\n",
    "\n",
    "https://virtualenv.pypa.io/en/latest/\n",
    "\n",
    "```bash\n",
    "### Install virtualenv ###\n",
    "# Debian, Ubuntu\n",
    "$ sudo apt-get install python-virtualenv\n",
    "```\n",
    "\n",
    "```bash\n",
    "# CentOS, Fedora\n",
    "$ sudo yum install python-virtualenv\n",
    "```\n",
    "\n",
    "```bash\n",
    "# Arch\n",
    "$ sudo pacman -S python-virtualenv\n",
    "```\n",
    "\n",
    "**Note:** If working Mac OS X, or Windows, follow [these](https://flask.palletsprojects.com/en/1.1.x/installation/#installation) instructions for installing virtualenv."
   ]
  },
  {
   "cell_type": "markdown",
   "metadata": {},
   "source": [
    "<br>\n",
    "\n",
    "**About virtualenv:** virtualenv allows users to create isolated environments for Python projects. This means that each project can be shared, collaborated upon, and modified regardless of the project dependencies -- since any dependencies, packages, and libraries are stored in directory files that are tied to the project itself and not the *local (working directory)* machine. To learn more:\n",
    "\n",
    "> [**Real Python (Python Virtual Environments: A Primer)**](https://realpython.com/python-virtual-environments-a-primer/)"
   ]
  },
  {
   "cell_type": "markdown",
   "metadata": {},
   "source": [
    "<a id='Part_1_2'></a>\n",
    "\n",
    "<hr style=\"border: 1px solid#003262;\" />\n",
    "\n",
    "#### PART 1.2: BASIC FLASK UP-AND-RUNNING\n",
    "\n",
    "<br>\n",
    "\n",
    "<div align=\"center\" style=\"font-size:12px; font-family:FreeMono; font-weight: 100; font-stretch:ultra-condensed; line-height: 1.0; color:#2A2C2B\">\n",
    "    <img src=\"/assets/content/images/greens-05.png\" align=\"center\" width=\"40%\" padding=\"10\"><br>\n",
    "    <br>\n",
    "    Flask in Virtual Environment\n",
    "</div>\n",
    "\n",
    "<br>\n",
    "\n",
    "#### **Create an Environment**\n",
    "\n",
    "We use virtual environments to manage dependencies for the project. Doing so ensures that each project is self contained and as such we can be certain that all the required dependencies are present and will not affect other projects or the operating system itself. For complete installation instructions, see [here](https://flask.palletsprojects.com/en/1.1.x/installation/#installation). \n",
    "\n",
    "```bash\n",
    "# create environment and move to directory newly created folder\n",
    "$ mkdir flaskTestApp\n",
    "\n",
    "$ cd flaskTestApp\n",
    "\n",
    "# create a folder named venv, containing our virtual environment named venv\n",
    "$ python3 -m venv venv\n",
    "\n",
    "\n",
    "# Activate Environment\n",
    "$ . venv/bin/activate\n",
    "```"
   ]
  },
  {
   "cell_type": "markdown",
   "metadata": {},
   "source": [
    "\n",
    "<br>\n",
    "\n",
    "<div align=\"center\" style=\"font-size:12px; font-family:FreeMono; font-weight: 100; font-stretch:ultra-condensed; line-height: 1.0; color:#2A2C2B\">\n",
    "    <img src=\"/assets/content/images/flask_sanity_check_1.png\" align=\"center\" width=\"35%\" padding=\"20\"><br>\n",
    "    <br>\n",
    "    **Sanity Check** You'll know you've done everything correctly if you see the venv referenced in the terminal (green arrow)\n",
    "<div>"
   ]
  },
  {
   "cell_type": "markdown",
   "metadata": {},
   "source": [
    "```bash\n",
    "# Install Flask in venv \n",
    "$ pip install Flask\n",
    "```"
   ]
  },
  {
   "cell_type": "markdown",
   "metadata": {},
   "source": [
    "\n",
    "<!--Navigate back to table of contents-->\n",
    "<div align=\"left\" style=\"text-align: left; background-color:#003262;\">\n",
    "    <span>\n",
    "        <hr style=\"border: 8px solid#003262;\" />\n",
    "        <a style=\"color:#FFFFFF; background-color:#003262; border:1px solid #FFFFFF; border-color:#FFFFFF;border-radius:0px;border-width:0px;display:inline-block;font-family:arial,helvetica,sans-serif;font-size:24px;letter-spacing:0px;line-height:20px;padding:24px 40px;text-align:left;text-decoration:none; align:left\"> \n",
    "            <strong>CONCEPT</strong> CHECK \n",
    "        </a>        \n",
    "    </span>\n",
    "\n",
    "</div>\n",
    "<!-------------------------------------->\n",
    "\n",
    "> **To make sure you understand what has happened up to this point, and build the simplest of sites -- i.e. Flask's \"Hello World\" -- complete the work in [Appendix III](#Appendix_3)**\n",
    "\n",
    "<br>"
   ]
  },
  {
   "cell_type": "markdown",
   "metadata": {},
   "source": [
    "<!--Navigate back to table of contents-->\n",
    "<div alig=\"right\" style=\"text-align: right\">\n",
    "    <span>\n",
    "        <a style=\"color:#FFFFFF; background-color:#003262; border:1px; solid:#FFFFFF; border-color:#FFFFFF;border-radius:5px;border-width:0px;display:inline-block;font-family:arial,helvetica,sans-serif;font-size:10px;letter-spacing:0px;line-height:10px;padding:10px 20px;text-align:center;text-decoration:none; align:center\" href=\"#Part_table_contents\" name=\"Table of Contents\"  id=\"Part_table_contents\"> \n",
    "            Table of Contents \n",
    "        </a>\n",
    "    </span>\n",
    "</div>\n",
    "<!-------------------------------------->"
   ]
  },
  {
   "cell_type": "markdown",
   "metadata": {},
   "source": [
    "<a id='Part_2'></a>\n",
    "\n",
    "<hr style=\"border: 2px solid#003262;\" />\n",
    "\n",
    "#### PART 2\n",
    "\n",
    "## **STRUCTURE**, DESIGN, **BEHAVIORS**, AND STORAGE\n",
    "\n",
    "<br>\n",
    "\n",
    "<div align=\"center\" style=\"font-size:12px; font-family:FreeMono; font-weight: 100; font-stretch:ultra-condensed; line-height: 1.0; color:#2A2C2B\">\n",
    "    <img src=\"/assets/content/images/flask_drawing.png\" align=\"center\" width=\"30%\" padding=\"10\"><br>\n",
    "    <br>\n",
    "    Complete (Basic) Flask Stack\n",
    "</div>\n",
    "\n",
    "<br>\n",
    "\n",
    "Now that we have a [**Flask**](https://flask.palletsprojects.com/en/1.1.x/) environment up-and-running we want to establish a structure that allows us to build our email client site. We then want to utilize [**Hypertext Markup Language (HTML)**](https://en.wikipedia.org/wiki/HTML) and [**Cascading Style Sheets (CSS)**](https://en.wikipedia.org/wiki/Cascading_Style_Sheets)to describe how to structure web pages, and establish how the site should act on the markup language -- e.g. color, layout, fonts, etc. \n",
    "\n",
    "\n",
    "#### CONTENTS:\n",
    "\n",
    "> [PART 2.1: SET UP NESTED DIRECTORIES AND FILES](#Part_2_1)<br>\n",
    "> [PART 2.2: SET BASIC HTML &amp; CSS](#Part_2_2)<br>\n",
    "> [PART 2.3: LINK TO SQLITE](#Part_2_3)<br>\n",
    "> [PART 2.4: LINE-BY-LINE BREAKDOWN OF myFlaskApp.py](#Part_2_4)<br>\n",
    "> [PART 2.5 (OPTIONAL): IMPLEMENT MYSQL DATABASE AND SERVER ENVIRONMENT](#Part_2_5)"
   ]
  },
  {
   "cell_type": "markdown",
   "metadata": {},
   "source": [
    "<a id='Part_2_1'></a>\n",
    "\n",
    "<hr style=\"border: 1px solid#003262;\" />\n",
    "\n",
    "#### PART 2.1: SET UP TEMPLATE'S NESTED DIRECTORIES AND FILES\n",
    "\n",
    "<br>\n",
    "\n",
    "<div align=\"center\" style=\"font-size:12px; font-family:FreeMono; font-weight: 100; font-stretch:ultra-condensed; line-height: 1.0; color:#2A2C2B\">\n",
    "    <img src=\"/assets/content/images/greens-06.png\" align=\"center\" width=\"40%\" padding=\"10\"><br>\n",
    "    <br>\n",
    "    Template and HTML\n",
    "</div>\n",
    "\n",
    "<br>"
   ]
  },
  {
   "cell_type": "markdown",
   "metadata": {},
   "source": [
    "#### **Set and Initialize Local Server for Development and Testing**\n",
    "\n",
    "```bash\n",
    "# create simple builtin server \n",
    "$ export FLASK_APP=myFlaskApp.py\n",
    "\n",
    "```\n",
    "\n",
    "\n",
    "```bash\n",
    "# run exported .py file in local server \n",
    "$ python -m flask run\n",
    "```\n",
    "\n",
    "**Note:** the two commands above must be executed within the directory flaskTestApp. The commands will fail if within a subdirectory or superdirectory of flaskTestApp.\n",
    "\n",
    "\n",
    "**IMPORTANT:** to kill the virtual environment after doing ```ctrl+c``` you must deactivate it by executing ```deactivate``` within the ```flaskTestApp``` directory.\n",
    "```bash\n",
    "    $ deactivate\n",
    "'''\n",
    "\n",
    "<br>"
   ]
  },
  {
   "cell_type": "markdown",
   "metadata": {},
   "source": [
    "#### **Create Directories**\n",
    "\n",
    "Using the ```mkdir``` command, or the file explorer on your computer, create two nested folders. Namely ```static``` and ```templates```. **These folders must be named as such**, so that Jinja and Flask know where to look for html files without having to specify the absolute path to the directory when using template inheritance (more bellow).\n",
    "\n",
    "\n",
    "<br>\n",
    "\n",
    "<div align=\"center\" style=\"font-size:12px; font-family:FreeMono; font-weight: 100; font-stretch:ultra-condensed; line-height: 1.0; color:#2A2C2B\">\n",
    "    <img src=\"/assets/content/images/flask_sanity_check_3.png\" align=\"center\" width=\"35%\" padding=\"10\"><br>\n",
    "    <br>\n",
    "    **Sanity Check** you should see (venv) at the start of the working directory, and the two requested folders also\n",
    "<div>\n",
    "<br>"
   ]
  },
  {
   "cell_type": "markdown",
   "metadata": {},
   "source": [
    "#### **Create Files**\n",
    "\n",
    "Using your favorite text editor, we want to create the following two files (see **/flaskTestApp/assets/templates** folder for the files themselves):\n",
    "\n",
    "```bash \n",
    "    # stores template inheritance and HTML\n",
    "    base.html\n",
    "```\n",
    "\n",
    "<br>\n",
    "\n",
    "\n",
    "<div align=\"center\" style=\"font-size:12px; font-family:FreeMono; font-weight: 100; font-stretch:ultra-condensed; line-height: 1.0; color:#2A2C2B\">\n",
    "    <img src=\"/assets/content/images/base_html.png\" align=\"center\" width=\"40%\" padding=\"10\"><br>\n",
    "    <br>\n",
    "<div>"
   ]
  },
  {
   "cell_type": "markdown",
   "metadata": {},
   "source": [
    "```bash \n",
    "    # extends the content into the base.html template and displays\n",
    "    home.html\n",
    "```\n",
    "\n",
    "<br>\n",
    "\n",
    "\n",
    "<div align=\"center\" style=\"font-size:12px; font-family:FreeMono; font-weight: 100; font-stretch:ultra-condensed; line-height: 1.0; color:#2A2C2B\">\n",
    "    <img src=\"/assets/content/images/home_html.png\" align=\"center\" width=\"40%\" padding=\"10\"><br>\n",
    "    <br>\n",
    "<div>"
   ]
  },
  {
   "cell_type": "markdown",
   "metadata": {},
   "source": [
    "\n",
    ">**Note:** when using Jinja's template inheritance you use \n",
    "```html\n",
    "    <!-- used for passing variables, objects, running functions, etc -->\n",
    "    {%  %}\n",
    "```\n",
    "```html\n",
    "    <!-- used for passing strings -->\n",
    "    {{  }}\n",
    "```"
   ]
  },
  {
   "cell_type": "markdown",
   "metadata": {},
   "source": [
    "<a id='Part_2_2'></a>\n",
    "\n",
    "<hr style=\"border: 1px solid#003262;\" />\n",
    "\n",
    "#### PART 2.2: SET BASIC HTML &amp; CSS\n",
    "\n",
    "<br>\n",
    "\n",
    "<div align=\"center\" style=\"font-size:12px; font-family:FreeMono; font-weight: 100; font-stretch:ultra-condensed; line-height: 1.0; color:#2A2C2B\">\n",
    "    <img src=\"/assets/content/images/greens-07.png\" align=\"center\" width=\"40%\" padding=\"10\"><br>\n",
    "    <br>\n",
    "    Static Content and CSS\n",
    "</div>\n",
    "\n",
    "<br>"
   ]
  },
  {
   "cell_type": "markdown",
   "metadata": {},
   "source": [
    "#### **Create Directories and Files**\n",
    "\n",
    "Using the ```mkdir``` command, or the file explorer on your computer, inside of the ```static``` directory create a folder named ```CSS```and a file named main.css Using ```main.css``` we can specify the desired global or local CSS design constraints.\n",
    "\n",
    "<br>\n",
    "\n",
    "<div align=\"center\" style=\"font-size:12px; font-family:FreeMono; font-weight: 100; font-stretch:ultra-condensed; line-height: 1.0; color:#2A2C2B\">\n",
    "    <img src=\"/assets/content/images/flask_sanity_check_4.png\" align=\"center\" width=\"40%\" padding=\"10\"><br>\n",
    "    <br>\n",
    "    **Sanity Check** you should see (venv) at the start of the working directory, and a folder named CSS within the static folder\n",
    "<div>\n"
   ]
  },
  {
   "cell_type": "markdown",
   "metadata": {},
   "source": [
    "#### **Create Files**\n",
    "\n",
    "Using your favorite text editor, we want to create the following two files (see **/assets/flaskTestApp/static/CSS** folder for the file):\n",
    "\n",
    "```bash \n",
    "    # stores stylesheet \n",
    "    main.css\n",
    "```\n",
    "\n",
    "<br>\n",
    "\n",
    "\n",
    "<div align=\"center\" style=\"font-size:12px; font-family:FreeMono; font-weight: 100; font-stretch:ultra-condensed; line-height: 1.0; color:#2A2C2B\">\n",
    "    <img src=\"/assets/content/images/main_css.png\" align=\"center\" width=\"40%\" padding=\"10\"><br>\n",
    "    <br>\n",
    "<div>\n",
    "<br>"
   ]
  },
  {
   "cell_type": "markdown",
   "metadata": {},
   "source": [
    "#### **Enable CSS within Jinja Templating**\n",
    "\n",
    "Using your favorite text editor, update the ```base.html``` file to contain the following\n",
    "\n",
    "```html \n",
    "    <link rel=\"stylesheet\" herf=\"{{ url_for('static', filename='CSS/main.css')}}\">\n",
    "```\n",
    "\n",
    "Your ```base.html``` file should look like the following:\n",
    "\n",
    "<br>\n",
    "\n",
    "\n",
    "<div align=\"center\" style=\"font-size:12px; font-family:FreeMono; font-weight: 100; font-stretch:ultra-condensed; line-height: 1.0; color:#2A2C2B\">\n",
    "    <img src=\"/assets/content/images/updated_base_html.png\" align=\"center\" width=\"40%\" padding=\"10\"><br>\n",
    "    <br>\n",
    "<div>\n",
    "<br>"
   ]
  },
  {
   "cell_type": "markdown",
   "metadata": {},
   "source": [
    "___\n",
    "\n",
    "**About Template Inheritance:** Jinja allows users to leverage [**template inheritance**](https://jinja.palletsprojects.com/en/2.11.x/templates/#template-inheritance) when constructing a site. Meaning that a bit of time architecting the 'skeleton' and associated templates, a developer can save a lot of time when maintaining and/or updating a site by passing content blocks via the template calls that are available thorughout any desired page on the site being built. To learn more about templating:\n",
    "\n",
    "> [**Real Python (Primer on Jinja Templating)**](https://realpython.com/primer-on-jinja-templating/)\n",
    "\n",
    "___"
   ]
  },
  {
   "cell_type": "markdown",
   "metadata": {},
   "source": [
    "<a id='Part_2_3'></a>\n",
    "\n",
    "<hr style=\"border: 1px solid#003262;\" />\n",
    "\n",
    "#### PART 2.3: LINK TO SQLITE\n",
    "\n",
    "<br>\n",
    "\n",
    "<div align=\"center\" style=\"font-size:12px; font-family:FreeMono; font-weight: 100; font-stretch:ultra-condensed; line-height: 1.0; color:#2A2C2B\">\n",
    "    <img src=\"/assets/content/images/greens-08.png\" align=\"center\" width=\"40%\" padding=\"10\"><br>\n",
    "    <br>\n",
    "    Static Content and CSS\n",
    "</div>\n",
    "\n",
    "<br>"
   ]
  },
  {
   "cell_type": "markdown",
   "metadata": {},
   "source": [
    "#### **Launch Virtual Environment**\n",
    "\n",
    "First make sure that you are within ```venv``` by running\n",
    "\n",
    "\n",
    "```bash\n",
    "   $ source venv/bin/activate\n",
    "```\n",
    "<br>"
   ]
  },
  {
   "cell_type": "markdown",
   "metadata": {},
   "source": [
    "<br>\n",
    "<div align=\"center\" style=\"font-size:12px; font-family:FreeMono; font-weight: 100; font-stretch:ultra-condensed; line-height: 1.0; color:#2A2C2B\">\n",
    "    <img src=\"/assets/content/images/flask_sanity_check_9.png\" align=\"center\" width=\"40%\" padding=\"10\"><br>\n",
    "    <br>\n",
    "    **Sanity Check**\n",
    "<div>"
   ]
  },
  {
   "cell_type": "markdown",
   "metadata": {},
   "source": [
    "<br>\n",
    "\n",
    "#### **Install SQL Alchemy**\n",
    "\n",
    "In the terminal with the ```venv``` environment, enter\n",
    "\n",
    "```bash\n",
    "   $ pip install Flask-SQLAlchemy\n",
    "```"
   ]
  },
  {
   "cell_type": "markdown",
   "metadata": {},
   "source": [
    "<br>\n",
    "<div align=\"center\" style=\"font-size:12px; font-family:FreeMono; font-weight: 100; font-stretch:ultra-condensed; line-height: 1.0; color:#2A2C2B\">\n",
    "    <img src=\"/assets/content/images/flask_sanity_check_10.png\" align=\"center\" width=\"40%\" padding=\"10\"><br>\n",
    "    <br>\n",
    "    **Sanity Check**\n",
    "<div>\n"
   ]
  },
  {
   "cell_type": "markdown",
   "metadata": {},
   "source": [
    "<br>\n",
    "\n",
    "#### **Enable SQL Alchemy and Create Database Initialization in myFlaskApp**\n",
    "\n",
    "Using your favorite text editor, update the ```myFlaskApp.py``` file to match the following:"
   ]
  },
  {
   "cell_type": "markdown",
   "metadata": {},
   "source": [
    "<br>\n",
    "<div align=\"center\" style=\"font-size:16px; font-family:FreeMono; font-weight: 100; font-stretch:ultra-condensed; line-height: 1.0; color:#2A2C2B\">\n",
    "    <a href=\"https://youtu.be/NW2qg0dDuW0\">\n",
    "      <img src=\"assets/content/images/flask_myFlaskApp.png\" align=\"center\" width=\"50%\" padding=\"10px\"/>\n",
    "    </a>\n",
    "<div align=\"center\"><br><strong>Click on Image to Play</strong> </div>\n",
    "</div>\n",
    "<br>\n"
   ]
  },
  {
   "cell_type": "markdown",
   "metadata": {},
   "source": [
    "\n",
    "<!--Navigate back to table of contents-->\n",
    "<div align=\"left\" style=\"text-align: left; background-color:#003262;\">\n",
    "    <span>\n",
    "        <hr style=\"border: 8px solid#003262;\" />\n",
    "        <a style=\"color:#FFFFFF; background-color:#003262; border:1px solid #FFFFFF; border-color:#FFFFFF;border-radius:0px;border-width:0px;display:inline-block;font-family:arial,helvetica,sans-serif;font-size:24px;letter-spacing:0px;line-height:20px;padding:24px 40px;text-align:left;text-decoration:none; align:left\"> \n",
    "            <strong>CONCEPT</strong> CHECK \n",
    "        </a>        \n",
    "    </span>\n",
    "\n",
    "</div>\n",
    "<!-------------------------------------->\n",
    "\n",
    ">**You can see the** ```__repr__()``` **method can be used for debugging by doing the following:**<br><br>\n",
    ">In a terminal window, within the activated virtual environment, start a Python3 session and enter the following\n",
    "\n",
    "```bash\n",
    "   $ python3\n",
    "```\n",
    "\n",
    "\n",
    "```python\n",
    "    # this portion is within the python3 session\n",
    "    >>> from myFlaskApp.models import userEmail\n",
    "    >>> uE = userEmail(username='elias', email='elias@example.com')\n",
    "    >>> uE\n",
    "    \n",
    "# what is the output?\n",
    "```   \n",
    "<hr style=\"border: 2px solid#003262;\" />"
   ]
  },
  {
   "cell_type": "markdown",
   "metadata": {},
   "source": [
    "\n",
    "\n"
   ]
  },
  {
   "cell_type": "markdown",
   "metadata": {},
   "source": [
    "#### **Create SQLite Database**\n",
    "\n",
    "<br>\n",
    "\n",
    "Start up a ```python3``` session\n",
    "\n",
    "```bash\n",
    "   $ python3\n",
    "```"
   ]
  },
  {
   "cell_type": "markdown",
   "metadata": {},
   "source": [
    "<br>\n",
    "\n",
    "then import the SQLite database listed on myFlaskApp\n",
    "\n",
    "```python\n",
    "   >>> from myFlaskApp import db\n",
    "```"
   ]
  },
  {
   "cell_type": "markdown",
   "metadata": {},
   "source": [
    "<br>\n",
    "\n",
    "Create the database ```myFlaskDB.db``` and store within the relative path (i.e. in current working directory ```flaskTestApp```\n",
    "\n",
    "```python\n",
    "   >>> db.create_all()\n",
    "```"
   ]
  },
  {
   "cell_type": "markdown",
   "metadata": {},
   "source": [
    "<br>\n",
    "\n",
    "Finally, exit out of the ```python3``` shell\n",
    "\n",
    "```python\n",
    "   >>> exit()\n",
    "```"
   ]
  },
  {
   "cell_type": "markdown",
   "metadata": {},
   "source": [
    "<br>\n",
    "<div align=\"center\" style=\"font-size:12px; font-family:FreeMono; font-weight: 100; font-stretch:ultra-condensed; line-height: 1.0; color:#2A2C2B\">\n",
    "    <img src=\"/assets/content/images/flask_sanity_check_11.png\" align=\"center\" width=\"50%\" padding=\"10\"><br>\n",
    "    <br>\n",
    "    **Sanity Check**\n",
    "<div>\n",
    "<br>"
   ]
  },
  {
   "cell_type": "markdown",
   "metadata": {},
   "source": [
    "<!--Navigate back to table of contents-->\n",
    "<div alig=\"right\" style=\"text-align: right\">\n",
    "    <span>\n",
    "        <a style=\"color:#FFFFFF; background-color:#003262; border:1px; solid:#FFFFFF; border-color:#FFFFFF;border-radius:5px;border-width:0px;display:inline-block;font-family:arial,helvetica,sans-serif;font-size:10px;letter-spacing:0px;line-height:10px;padding:10px 20px;text-align:center;text-decoration:none; align:center\" href=\"#Part_table_contents\" name=\"Table of Contents\"  id=\"Part_table_contents\"> \n",
    "            Table of Contents \n",
    "        </a>\n",
    "    </span>\n",
    "</div>\n",
    "<!-------------------------------------->"
   ]
  },
  {
   "cell_type": "markdown",
   "metadata": {},
   "source": [
    "<a id='Part_2_5'></a>\n",
    "\n",
    "<hr style=\"border: 2px solid#003262;\" />\n",
    "\n",
    "#### PART 2.5 (OPTIONAL): IMPLEMENT MYSQL DATABASE AND WSGI ENVIRONMENT\n",
    "\n",
    "<br>\n",
    "\n",
    "The following takes you through the process of associating a database server with your Flask environment. It is not needed for this particular effort, but available for those that are interested -- and may be helpful when completing the homework."
   ]
  },
  {
   "cell_type": "markdown",
   "metadata": {},
   "source": [
    "<br>\n",
    "\n",
    "#### **Install MySQL Database Packages**\n",
    "\n",
    "```bash\n",
    "    # within venv, install the following\n",
    "    $ sudo apt-get install apache2 mysql-client mysql-server\n",
    "\n",
    "```\n",
    "\n",
    "\n",
    "**Note:** multiple packages can be installed by adding a single space between package names."
   ]
  },
  {
   "cell_type": "markdown",
   "metadata": {},
   "source": [
    "<br>\n",
    "\n",
    "<div align=\"center\" style=\"font-size:12px; font-family:FreeMono; font-weight: 100; font-stretch:ultra-condensed; line-height: 1.0; color:#2A2C2B\">\n",
    "    <img src=\"/assets/content/images/flask_sanity_check_5.png\" align=\"center\" width=\"50%\" padding=\"10\"><br>\n",
    "    <br>\n",
    "    **Sanity Check**\n",
    "<div>"
   ]
  },
  {
   "cell_type": "markdown",
   "metadata": {},
   "source": [
    "#### **Install WSGI to run Flask Environment** \n",
    "\n",
    "Setting up a WSGI environment makes development and production easier as the site scales beyond the scope of this tutorial.\n",
    "\n",
    "```bash\n",
    "    # within venv, install the following\n",
    "    $ sudo apt-get install libapache2-mod-wsgi\n",
    "    \n",
    "```"
   ]
  },
  {
   "cell_type": "markdown",
   "metadata": {},
   "source": [
    "<br>\n",
    "\n",
    "<div align=\"center\" style=\"font-size:12px; font-family:FreeMono; font-weight: 100; font-stretch:ultra-condensed; line-height: 1.0; color:#2A2C2B\">\n",
    "    <img src=\"/assets/content/images/flask_sanity_check_6.png\" align=\"center\" width=\"50%\" padding=\"10\"><br>\n",
    "    <br>\n",
    "    **Sanity Check**\n",
    "<div>\n"
   ]
  },
  {
   "cell_type": "markdown",
   "metadata": {},
   "source": [
    "#### **Enable WSGI** \n",
    "\n",
    "```bash\n",
    "    $ sudo a2enmod wsgi\n",
    "```"
   ]
  },
  {
   "cell_type": "markdown",
   "metadata": {},
   "source": [
    "<br>\n",
    "\n",
    "<div align=\"center\" style=\"font-size:12px; font-family:FreeMono; font-weight: 100; font-stretch:ultra-condensed; line-height: 1.0; color:#2A2C2B\">\n",
    "    <img src=\"/assets/content/images/flask_sanity_check_7.png\" align=\"center\" width=\"35%\" padding=\"10\"><br>\n",
    "    <br>\n",
    "    **Sanity Check**\n",
    "<div>"
   ]
  },
  {
   "cell_type": "markdown",
   "metadata": {},
   "source": [
    "#### **Check That Flask and WSGI are Working** \n",
    "\n",
    "```bash\n",
    "    $ sudo python myFlaskApp.py\n",
    "```"
   ]
  },
  {
   "cell_type": "markdown",
   "metadata": {},
   "source": [
    "<br>\n",
    "\n",
    "<div align=\"center\" style=\"font-size:12px; font-family:FreeMono; font-weight: 100; font-stretch:ultra-condensed; line-height: 1.0; color:#2A2C2B\">\n",
    "    <img src=\"/assets/content/images/flask_sanity_check_8.png\" align=\"center\" width=\"40%\" padding=\"20\"><br>\n",
    "    <br>\n",
    "    **Sanity Check**\n",
    "<div>"
   ]
  },
  {
   "cell_type": "markdown",
   "metadata": {},
   "source": [
    "___\n",
    "\n",
    "**About WSGI:** [Web Server Gateway Interface (WSGI)](http://wsgi.tutorial.codepoint.net/) allows us to create an interface by which the server and application can communicate. There is no need for an API. To learn more about WSGI:\n",
    "\n",
    ">[**WSGI for Web Developer by Ryan Wilson-Perkin**](https://www.youtube.com/watch?v=WqrCnVAkLIo)\n",
    "\n",
    "___"
   ]
  },
  {
   "cell_type": "markdown",
   "metadata": {},
   "source": [
    "<a id='Part_3'></a>\n",
    "\n",
    "<hr style=\"border: 2px solid#003262;\" />\n",
    "\n",
    "#### PART 3\n",
    "\n",
    "## **WRAP-UP** AND **NEXT** STEPS\n",
    "\n",
    "\n",
    "<div align=\"center\">\n",
    "    <img src= \"/assets/content/datax_logos/DataX_icon_wide_logo.png\" align=\"center\" width=\"80%\" padding=\"20\">\n",
    "</div>\n",
    "\n",
    "<br>\n",
    "\n",
    "As you may have started to notice, that there is much more than can be done using Flask. Wanting to learn other uses of Flask?  Visit the [**Data-X website**](https://datax.berkeley.edu/) to learn more, or use the following links to topics of interest:\n",
    "\n",
    "> [**SENDING EMAIL WITH FLASK + SMTPLIB: url needed**]() Capitalizes on Flask's barebones architecture to create a lightweight email client using SMTPLIB<br>\n",
    "> [**INTRODUCTION TO AWS + FLASK: url needed**]() Shows you how to deploy your Flask environment in an elastic server <br>\n",
    "> [**DASHBOARDS USING D3.js + FLASK: url needed**]() Covers how to deploy a dashboard Flask website with dynamic plots using D3.js<br>\n",
    "> [**PRODUCTIZED MACHINE LEARNING MODELS USING FLASK: url needed**]() Introduces how to deploy machine learning models that are accessible via the web\n",
    "\n",
    "\n",
    "\n",
    "<br>\n",
    "\n",
    "<br>\n"
   ]
  },
  {
   "cell_type": "markdown",
   "metadata": {},
   "source": [
    "<a id='Appendix_1'></a>\n",
    "\n",
    "<hr style=\"border: 6px solid#003262;\" />\n",
    "\n",
    "\n",
    "#### APPENDIX I\n",
    "\n",
    "\n",
    "## PREREQUISITE **KNOWLEDGE** AND **REQUIREMENTS**\n",
    "\n",
    "\n",
    "In order to create a barebones website that communicates with existing API's\n",
    "to generate emails, we will need to connect several components. Specifically, we will spin up an [**AWS server**](https://aws.amazon.com/) account, create an [**Elastic Compute Cloud (EC2)**](https://aws.amazon.com/ec2/) instance, link our [**Flask**](https://flask.palletsprojects.com/en/1.1.x/) environment to the [**Google Sheets API**](https://developers.google.com/sheets/api), and then send emails using [**smtplib**](https://docs.python.org/3/library/smtplib.html) via either a local or remote server. There are many theoretical and applied topics that underlie the various components of the technology stack just mentioned. For the sake of focusing on the implementation, none of the notebooks in this series will deepdive into any of the required components. Intead, the content is purposefully accessible and designed for self-learning with the assumption that the user is familiar with the above concepts. In case you are not yet ready but want to follow along, following are some helpful links to help you with some of the prerequisites.<br>\n",
    "\n",
    "\n",
    "##### **PYTHON**\n",
    "This notebook and the executable files are built using [**Python**](https://www.python.org/) and relies on common Python packages (e.g. [**NumPy**](https://numpy.org/)) for operation. If you have a lot of programming experience in a different language (e.g. C/C++/Matlab/Java/Javascript), you will likely be fine, otherwise:\n",
    "\n",
    "> [**Python (EDX free)**](https://www.edx.org/course?search_query=python)<br>\n",
    "> [**Python (Coursera free)**](https://www.coursera.org/search?query=python)\n",
    "\n",
    "##### **HTML+CSS**\n",
    "[**Hypertext Markup Language (HTML)**](https://en.wikipedia.org/wiki/HTML) and [**Cascading Style Sheets (CSS)**](https://en.wikipedia.org/wiki/Cascading_Style_Sheets) are core technologies for building web pages. HTML describes the structure of web pages, while CSS is an independent language that acts on the markup language, the color, layout, and fonts. Add graphics and scripting to HTML+CSS and you have the basis for building web pages and web applications. Knowing how to utilize HTML+CSS is not required for this notebook. However, if you are wanting to learn more see the following:\n",
    "\n",
    "> [**W3C.org (Tutorials and Courses)**](https://www.w3.org/2002/03/tutorials.html#webdesign_htmlcss)\n",
    "\n",
    "\n",
    "##### **JINJA2**\n",
    "[**Jinja2**](https://jinja.palletsprojects.com/en/2.11.x/) is a design-friendly templating language based on Django's templates. Optimized for working in Python, Jinja2 is fast, secure, and easy to learn. If you want to learn more about Jinja:\n",
    "\n",
    "> [**Jinja2 (Primer on Jinja Templating)**](https://realpython.com/primer-on-jinja-templating/)\n"
   ]
  },
  {
   "cell_type": "markdown",
   "metadata": {},
   "source": [
    "<a id='Appendix_2'></a>\n",
    "\n",
    "<hr style=\"border: 2px solid#003262;\" />\n",
    "\n",
    "#### APPENDIX II\n",
    "\n",
    "\n",
    "## **REFERENCES** AND ADDITIONAL **RESOURCES**\n",
    "\n",
    "<br>\n",
    "\n",
    "\n",
    "> * [**Learn Flask for Python by FreeCodeCamp.org**](https://www.youtube.com/watch?v=Z1RJmh_OqeA)\n",
    "\n",
    "> * [**Flask Web Development in Python 3 - Variables in your HTML by Sentdex**](https://youtu.be/4vvHkziL3oQ) \n",
    "\n",
    "> * [**Discover Flask by Real Python**](https://realpython.com/introduction-to-flask-part-1-setting-up-a-static-site/)\n",
    "\n",
    "> * [**Flask Mega Tutorial by Miguel Grinberg**](https://courses.miguelgrinberg.com/courses/flask-mega-tutorial/lectures/5203689)"
   ]
  },
  {
   "cell_type": "markdown",
   "metadata": {},
   "source": [
    "<a id='Appendix_3'></a>\n",
    "\n",
    "<hr style=\"border: 2px solid#003262;\" />\n",
    "\n",
    "#### APPENDIX III\n",
    "\n",
    "\n",
    "## QUICKSTART **FLASK** - **HELLO WORLD**\n",
    "\n",
    "<br>\n",
    "\n",
    "The following quickstart example assumes that Flask is installed. For detailed instructions what the code is doing, see [here](https://flask.palletsprojects.com/en/1.1.x/quickstart/).  The following cell should be saved as a .py file. See **Flask_helloworld.py** in **assets/flaskTestApp** folder, for reference."
   ]
  },
  {
   "cell_type": "markdown",
   "metadata": {},
   "source": [
    "```python\n",
    "## -------------------------------------------------------------------- ##\n",
    "# Import Flask Class\n",
    "from flask import Flask\n",
    "\n",
    "# create instance of class '__name__' since we are using a single module\n",
    "app = Flask(__name__)\n",
    "\n",
    "## routing binds urls to functions via decorators ##\n",
    "@app.route('/')\n",
    "def hello_world():\n",
    "    return 'Hello World!'\n",
    "## -------------------------------------------------------------------- ##\n",
    "```\n",
    "**Note:** using the ```route()``` generator tells flask to generate URLs when that particular function is called, and to return the message and display it on a browser."
   ]
  },
  {
   "cell_type": "markdown",
   "metadata": {},
   "source": [
    "___\n",
    "\n",
    "#### **Quick Start (Run Application -- Hello World)**\n",
    "\n",
    "For alternate ways of running the application, see [here](https://flask.palletsprojects.com/en/1.1.x/quickstart/)."
   ]
  },
  {
   "cell_type": "markdown",
   "metadata": {},
   "source": [
    "```bash\n",
    "# create simple builtin server \n",
    "\n",
    "$ export FLASK_APP=Flask_helloworld.py\n",
    "\n",
    "$ python -m flask run\n",
    "```"
   ]
  },
  {
   "cell_type": "markdown",
   "metadata": {},
   "source": [
    "___\n",
    "\n",
    "<div align=\"center\" style=\"font-size:12px; font-family:FreeMono; font-weight: 100; font-stretch:ultra-condensed; line-height: 1.0; color:#2A2C2B\">\n",
    "    <img src=\"/assets/content/images/flask_sanity_check_2.png\" align=\"center\" width=\"40%\" padding=\"10\"><br>\n",
    "    <br>\n",
    "    \n",
    "<div>"
   ]
  },
  {
   "cell_type": "markdown",
   "metadata": {},
   "source": [
    "\n",
    "**Sanity Check:** head over to the given http, where you should see the 'Hello World!' greeting. If your localhost site does not appear, see how to [debug here](https://flask.palletsprojects.com/en/1.1.x/quickstart/#what-to-do-if-the-server-does-not-start).\n"
   ]
  },
  {
   "cell_type": "markdown",
   "metadata": {},
   "source": [
    "<!--Navigate back to table of contents-->\n",
    "<div alig=\"right\" style=\"text-align: right\">\n",
    "    <span>\n",
    "        <a style=\"color:#FFFFFF; background-color:#003262; border:1px solid #FFFFFF; border-color:#FFFFFF;border-radius:5px;border-width:0px;display:inline-block;font-family:arial,helvetica,sans-serif;font-size:10px;letter-spacing:0px;line-height:10px;padding:10px 20px;text-align:center;text-decoration:none; align:center\" href=\"#Part_table_contents\" name=\"Table of Contents\"  id=\"Part_table_contents\"> \n",
    "            Table of Contents \n",
    "        </a>\n",
    "    </span>\n",
    "</div>\n",
    "<!-------------------------------------->"
   ]
  },
  {
   "cell_type": "markdown",
   "metadata": {},
   "source": [
    "<hr style=\"border: 6px solid#003262;\" />\n"
   ]
  }
 ],
 "metadata": {
  "anaconda-cloud": {},
  "celltoolbar": "Slideshow",
  "kernelspec": {
   "display_name": "Python 3",
   "language": "python",
   "name": "python3"
  },
  "language_info": {
   "codemirror_mode": {
    "name": "ipython",
    "version": 3
   },
   "file_extension": ".py",
   "mimetype": "text/x-python",
   "name": "python",
   "nbconvert_exporter": "python",
   "pygments_lexer": "ipython3",
   "version": "3.6.10"
  },
  "livereveal": {
   "scroll": true
  },
  "rise": {
   "enable_chalkboard": true,
   "height": "90%",
   "width": "100%"
  }
 },
 "nbformat": 4,
 "nbformat_minor": 2
}
