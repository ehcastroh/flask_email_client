{
 "cells": [
  {
   "cell_type": "markdown",
   "metadata": {},
   "source": [
    "<div align=\"center\">\n",
    "    <img src= \"/assets/content/datax_logos/DataX_blue_wide_logo.png\" align=\"center\" width=\"100%\">\n",
    "</div>\n",
    "\n",
    "### **HOMEWORK** 04 - **STAGING** AND **PRODUCTION** FLASK **ON** HEROKU\n",
    "\n",
    "<br>\n",
    "\n",
    "<div align=\"center\" style=\"font-size:12px; font-family:FreeMono; font-weight: 100; font-stretch:ultra-condensed; line-height: 1.0; color:#2A2C2B\">\n",
    "    <img src=\"/assets/content/images/flask_logo.png\" align=\"center\" width=\"20%\" padding=\"10\"><br>\n",
    "    <br>\n",
    "</div>\n",
    "\n",
    "<br>\n",
    "\n",
    "<br>\n",
    "\n",
    "In **m320_hw_1--flask_minimal_application** we introduced [**routing (decorators)**](https://flask.palletsprojects.com/en/1.1.x/api/#flask.Flask.route), the [**extends**](https://flask.palletsprojects.com/en/1.1.x/patterns/templateinheritance/) statement, and how to build a **Flask package**. The work on **m320_hw_2--flask_wtf** covered [**web forms** and **form validation**](https://flask.palletsprojects.com/en/1.1.x/patterns/wtforms/), while **m320_hw_3--alternate_databases** showed how to initialize a PostgreSQL database and migrate data into it. This exercise notebook wraps up the introduction to Flask, by showing how to deploy Flask in, and how to migrate the database created in hw_3 into, [**Heroku**](https://www.heroku.com/).\n",
    "\n",
    "In order to successfully complete this assignment, make sure you've watched the myFlaskApp.py walkthrough video as it discusses in a general way, what you are being asked to do.\n",
    "\n",
    "<br>\n",
    "\n",
    "**Author list:** [Elias Casto Hernandez](https://www.linkedin.com/in/ehcastroh/)\n",
    "\n",
    "**References and Additional Resources**\n",
    "<br>\n",
    "\n",
    "\n",
    "> * [Flask by Example by Real Python](https://realpython.com/flask-by-example-part-1-project-setup/#project-setup)\n",
    "\n",
    "> * [Flask Mega Tutorial by Miguel Grinberg](https://courses.miguelgrinberg.com/courses/flask-mega-tutorial/lectures/5203689)\n",
    "\n",
    "> * [Flask Database Server Options](https://flask.palletsprojects.com/en/1.1.x/tutorial/database/?highlight=database)"
   ]
  },
  {
   "cell_type": "markdown",
   "metadata": {},
   "source": [
    "<hr style=\"border: 2px solid#003262;\" />\n",
    "\n",
    "#### HW 4: FLASK + HEROKU\n",
    "\n",
    "<div align=\"center\" style=\"font-size:12px; font-family:FreeMono; font-weight: 100; font-stretch:ultra-condensed; line-height: 1.0; color:#2A2C2B\">\n",
    "    <img src=\"/assets/content/images/flask-03.png\" align=\"center\" width=\"30%\" padding=\"10\"><br>\n",
    "    <br>\n",
    "</div>\n",
    "\n",
    "<br>"
   ]
  },
  {
   "cell_type": "markdown",
   "metadata": {},
   "source": [
    "This assignment assumes that hw_1, hw_2, and hw_3 are fully working as requested, in *local host*.\n",
    "\n",
    "```bash\n",
    "/myFlaskPackage\n",
    "/venv\n",
    "/flaskApp\n",
    "/__init__.py\n",
    "/routes.py\n",
    "/config.py\n",
    "/manage.py         \n",
    "/templates\n",
    "    /base.html\n",
    "    /index.html\n",
    "    /login.html\n",
    "/static\n",
    "    /CSS\n",
    "        /main.css\n",
    "```"
   ]
  },
  {
   "cell_type": "markdown",
   "metadata": {},
   "source": [
    "___\n",
    "\n",
    "### **TO-DO**"
   ]
  },
  {
   "cell_type": "markdown",
   "metadata": {},
   "source": [
    "0) Sign up for a Heroku account.\n",
    "\n",
    "https://signup.heroku.com/"
   ]
  },
  {
   "cell_type": "markdown",
   "metadata": {},
   "source": [
    "<br>\n",
    "\n",
    "00) Install Heroku Toolbelt\n",
    "\n",
    "https://devcenter.heroku.com/articles/heroku-cli\n",
    "\n",
    "```bash\n",
    "# in local machine\n",
    "$ sudo snap install --classic heroku\n",
    "```"
   ]
  },
  {
   "cell_type": "markdown",
   "metadata": {},
   "source": [
    "<br>\n",
    "\n",
    "1) In the **Project's root directory**, set up the [**procfile**](https://devcenter.heroku.com/articles/procfile) to be executed at startup.\n",
    "\n",
    "```bash\n",
    "$ touch Procfile\n",
    "```"
   ]
  },
  {
   "cell_type": "markdown",
   "metadata": {},
   "source": [
    "using your favorite text editor, add the following text to the newly created file\n",
    "\n",
    ">```web: gunicorn app:app```"
   ]
  },
  {
   "cell_type": "markdown",
   "metadata": {},
   "source": [
    "<br>\n",
    "\n",
    "2) Install [**gunicorn**](https://gunicorn.org/) and add it to your ```requirement.txt``` file\n",
    "\n",
    "```bash\n",
    "$ python -m pip install gunicorn==20.0.4\n",
    "$ python -m freeze > requirements.txt\n",
    "```"
   ]
  },
  {
   "cell_type": "markdown",
   "metadata": {},
   "source": [
    "<br>\n",
    "\n",
    "3) Create file to specify Python version to be used by Heroku.\n",
    "\n",
    "```bash\n",
    "$ touch runtime.txt\n",
    "```"
   ]
  },
  {
   "cell_type": "markdown",
   "metadata": {},
   "source": [
    "using your favorite text editor, add the following text to the newly created file\n",
    "\n",
    ">```python-3.8.1```"
   ]
  },
  {
   "cell_type": "markdown",
   "metadata": {},
   "source": [
    "<br>\n",
    "\n",
    "4) [Commit Changes to git](https://git-scm.com/docs/git-commit) ```$ git commit``` (and push to github if desired) "
   ]
  },
  {
   "cell_type": "markdown",
   "metadata": {},
   "source": [
    "<br>\n",
    "\n",
    "5) Create Heroku apps (one for production and one for staging)\n",
    "\n",
    ">Production\n",
    "```bash\n",
    "$ heroku create flaskApp-pro\n",
    "```"
   ]
  },
  {
   "cell_type": "markdown",
   "metadata": {},
   "source": [
    ">Staging\n",
    "```bash\n",
    "$ heroku create flaskApp-stage\n",
    "```"
   ]
  },
  {
   "cell_type": "markdown",
   "metadata": {},
   "source": [
    "<br>\n",
    "\n",
    "6) Add new apps to git remotes\n",
    "\n",
    "**Note:** the names 'flaskApp-pro,' and 'flaskApp-stage' are now taken. So when you name your app, on Heroku's end, it must not be the same\n",
    ">Production\n",
    "```bash\n",
    "$ git remote add pro git@heroku.com:myFlaskApp.git\n",
    "```"
   ]
  },
  {
   "cell_type": "markdown",
   "metadata": {},
   "source": [
    ">Staging\n",
    "```bash\n",
    "$ git remote add stage git@heroku.com:myFlaskApp.git\n",
    "```"
   ]
  },
  {
   "cell_type": "markdown",
   "metadata": {},
   "source": [
    "<br>\n",
    "\n",
    "7) [push](https://git-scm.com/docs/git-push) both apps to Heroku.\n",
    "```bash\n",
    "$ git push pro master\n",
    "```\n",
    "\n",
    "```bash\n",
    "$ git push stage master\n",
    "```"
   ]
  },
  {
   "cell_type": "markdown",
   "metadata": {},
   "source": [
    "<br> \n",
    "\n",
    "8) Update Local Setting in ```myFlaskPackage/venv/bin/activate``` by adding the following at the end of the file:\n",
    "\n",
    ">Update virtual environment\n",
    "```text\n",
    "source venv/bin/activate\n",
    "export APP_SETTINGS=\"config.DevelopmentConfig\"\n",
    "```"
   ]
  },
  {
   "cell_type": "markdown",
   "metadata": {},
   "source": [
    ">Refresh ```.bashrc``` to update changes to venv\n",
    "```bash\n",
    "$ echo \"source 'which activate.sh'\" >> ~/.bashrc\n",
    "$ source ~/.bashrc\n",
    "```"
   ]
  },
  {
   "cell_type": "markdown",
   "metadata": {},
   "source": [
    "<br>\n",
    "\n",
    "9) Update Heroku Settings for production and staging\n",
    "\n",
    ">Production\n",
    "```bash\n",
    "$ heroku config:set APP_SETTINGS=config.StagingConfig --remote pro\n",
    "```"
   ]
  },
  {
   "cell_type": "markdown",
   "metadata": {},
   "source": [
    ">Staging\n",
    "```bash\n",
    "$ heroku config:set APP_SETTINGS=config.StagingConfig --remote stage\n",
    "```"
   ]
  },
  {
   "cell_type": "markdown",
   "metadata": {},
   "source": [
    "<br>\n",
    "\n",
    "10) Make sure the file ```manage.py``` is set to configure the production and staging environments. It should contain the following:\n",
    "\n",
    "```python\n",
    "import os\n",
    "from flask_script import Manager\n",
    "from flask_migrate import Migrate, MigrateCommand\n",
    "\n",
    "from app import app, db\n",
    "\n",
    "\n",
    "app.config.from_object(os.environ['APP_SETTINGS'])\n",
    "\n",
    "# Sanity check\n",
    "print(os.environ['APP_SETTINGS'])\n",
    "\n",
    "migrate = Migrate(app, db)\n",
    "manager = Manager(app)\n",
    "\n",
    "manager.add_command('db', MigrateCommand)\n",
    "\n",
    "\n",
    "if __name__ == '__main__':\n",
    "    manager.run()\n",
    "\n",
    "```"
   ]
  },
  {
   "cell_type": "markdown",
   "metadata": {},
   "source": [
    "___\n",
    "\n",
    "**Sanity Check:** in the ```manage.py``` file, the inclusion of the following code will display the environment variables when executed. \n",
    "```python \n",
    "print(os.environ['APP_SETTINGS'])\n",
    "``` \n",
    "___"
   ]
  },
  {
   "cell_type": "markdown",
   "metadata": {},
   "source": [
    "<br>\n",
    "\n",
    "11) Heroku (Remote) Database Migration\n",
    "\n",
    ">Local\n",
    "```bash\n",
    "$ python manage.py\n",
    "```"
   ]
  },
  {
   "cell_type": "markdown",
   "metadata": {},
   "source": [
    ">Production\n",
    "```bash\n",
    "$ heroku run python manage.py --app flaskApp-pro\n",
    "```"
   ]
  },
  {
   "cell_type": "markdown",
   "metadata": {},
   "source": [
    ">Staging\n",
    "```bash\n",
    "$ heroku run python manage.py --app flaskApp-stage\n",
    "```"
   ]
  },
  {
   "cell_type": "markdown",
   "metadata": {},
   "source": [
    "<br>\n",
    "\n",
    "<hr style=\"border: 2px solid#003262;\" />\n",
    "\n",
    "### **DELIVERABLES**\n",
    "\n",
    "Please submit the following: \n",
    ">(1) For each item in 11), enter the stated command and screen capture the output. \n",
    "\n",
    ">(2) Once you receive your confirmation messages for (1), submit the screen captures with your complete directory and files\n",
    "\n",
    "<hr style=\"border: 2px solid#003262;\" />"
   ]
  }
 ],
 "metadata": {
  "anaconda-cloud": {},
  "kernelspec": {
   "display_name": "Python 3",
   "language": "python",
   "name": "python3"
  },
  "language_info": {
   "codemirror_mode": {
    "name": "ipython",
    "version": 3
   },
   "file_extension": ".py",
   "mimetype": "text/x-python",
   "name": "python",
   "nbconvert_exporter": "python",
   "pygments_lexer": "ipython3",
   "version": "3.6.10"
  }
 },
 "nbformat": 4,
 "nbformat_minor": 2
}
