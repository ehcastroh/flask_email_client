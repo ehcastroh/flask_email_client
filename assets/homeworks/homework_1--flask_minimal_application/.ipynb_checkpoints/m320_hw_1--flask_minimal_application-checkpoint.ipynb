{
 "cells": [
  {
   "cell_type": "markdown",
   "metadata": {},
   "source": [
    "<div align=\"center\">\n",
    "    <img src= \"/assets/content/datax_logos/DataX_blue_wide_logo.png\" align=\"center\" width=\"100%\">\n",
    "</div>\n",
    "\n",
    "### **HOMEWORK** 01 - **FLASK** MINIMAL **APPLICATION +**\n",
    "\n",
    "<br>\n",
    "\n",
    "<div align=\"center\" style=\"font-size:12px; font-family:FreeMono; font-weight: 100; font-stretch:ultra-condensed; line-height: 1.0; color:#2A2C2B\">\n",
    "    <img src=\"/assets/content/images/flask_logo.png\" align=\"center\" width=\"20%\" padding=\"20\"><br>\n",
    "    <br>\n",
    "</div>\n",
    "\n",
    "<br>\n",
    "\n",
    "<br>\n",
    "\n",
    "Recall that [**Flask**](https://flask.palletsprojects.com/en/1.1.x/) has no [**data abstraction layer**](https://en.wikipedia.org/wiki/Database_abstraction_layer), does not perform [**form validation**](https://developer.mozilla.org/en-US/docs/Learn/Forms/Form_validation#What_is_form_validation), nor does it include custom packages if they already exist as a package/library, elsewhere. In **m320_Setting-up-Flask** we covered the components and steps required to set up a barebones Flask environment. In this assignment we aim to expand to the previous work and ultimately build a Flask package -- which will enable us to do things like productionize machine learning models, and build dashboards.\n",
    "\n",
    "\n",
    "**Author list:** [Elias Casto Hernandez](https://www.linkedin.com/in/ehcastroh/)\n",
    "\n",
    "**License Agreement:** Feel free to do whatever you want with this code\n",
    "\n",
    "<hr style=\"border: 2px solid#003262;\" />"
   ]
  },
  {
   "cell_type": "markdown",
   "metadata": {},
   "source": []
  },
  {
   "cell_type": "markdown",
   "metadata": {},
   "source": []
  },
  {
   "cell_type": "code",
   "execution_count": null,
   "metadata": {},
   "outputs": [],
   "source": []
  },
  {
   "cell_type": "code",
   "execution_count": null,
   "metadata": {},
   "outputs": [],
   "source": []
  },
  {
   "cell_type": "code",
   "execution_count": null,
   "metadata": {},
   "outputs": [],
   "source": []
  },
  {
   "cell_type": "code",
   "execution_count": null,
   "metadata": {},
   "outputs": [],
   "source": []
  },
  {
   "cell_type": "code",
   "execution_count": null,
   "metadata": {},
   "outputs": [],
   "source": []
  },
  {
   "cell_type": "markdown",
   "metadata": {},
   "source": [
    "<br>\n",
    "\n",
    "1) Watch **AWS TUTORIAL 1** and create your own EC2 Instance\n",
    "\n",
    "2) Connect to server using SSH \n",
    "\n",
    "<br>\n",
    "\n",
    "#### **DELIVERABLES**\n",
    "\n",
    "Please submit the following: \n",
    "> (1) A picture of your AWS account (of browser with AWS open) once you've manually created your server.  \n",
    "\n",
    "> (2) Initiate your server, and take a picture of your terminal after you've SSH'd into your server.\n",
    "\n",
    "<hr style=\"border: 1px solid#0B0B0B;\" />"
   ]
  }
 ],
 "metadata": {
  "anaconda-cloud": {},
  "kernelspec": {
   "display_name": "Python 3",
   "language": "python",
   "name": "python3"
  },
  "language_info": {
   "codemirror_mode": {
    "name": "ipython",
    "version": 3
   },
   "file_extension": ".py",
   "mimetype": "text/x-python",
   "name": "python",
   "nbconvert_exporter": "python",
   "pygments_lexer": "ipython3",
   "version": "3.6.10"
  }
 },
 "nbformat": 4,
 "nbformat_minor": 2
}
