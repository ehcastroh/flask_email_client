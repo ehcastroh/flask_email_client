{
 "cells": [
  {
   "cell_type": "markdown",
   "metadata": {},
   "source": [
    "<div align=\"center\">\n",
    "    <img src= \"/assets/content/datax_logos/DataX_blue_wide_logo.png\" align=\"center\" width=\"100%\">\n",
    "</div>\n",
    "\n",
    "### **HOMEWORK** 03 - **FLASK** DATABASE **DEPLOYMENT**\n",
    "\n",
    "<br>\n",
    "\n",
    "<div align=\"center\" style=\"font-size:12px; font-family:FreeMono; font-weight: 100; font-stretch:ultra-condensed; line-height: 1.0; color:#2A2C2B\">\n",
    "    <img src=\"/assets/content/images/flask_logo.png\" align=\"center\" width=\"20%\" padding=\"10\"><br>\n",
    "    <br>\n",
    "</div>\n",
    "\n",
    "<br>\n",
    "\n",
    "<br>\n",
    "\n",
    "In **m320_hw_1--flask_minimal_application** we introduced [**routing (decorators)**](https://flask.palletsprojects.com/en/1.1.x/api/#flask.Flask.route), the [**extends**](https://flask.palletsprojects.com/en/1.1.x/patterns/templateinheritance/) statement, and how to build a **Flask package**. The work on **m320_hw_2--flask_wtf** covered [**web forms** and **form validation**](https://flask.palletsprojects.com/en/1.1.x/patterns/wtforms/). This notebook covers Flask [**database server deployment**](https://flask.palletsprojects.com/en/1.1.x/deploying/#deployment), instead of the more barebones [**SQLite**](https://flask.palletsprojects.com/en/1.1.x/patterns/sqlite3/) disk-based database system used in the introductory coursework.\n",
    "<br>\n",
    "\n",
    "**Author list:** [Elias Casto Hernandez](https://www.linkedin.com/in/ehcastroh/)\n",
    "\n",
    "**References and Additional Resources**\n",
    "<br>\n",
    "\n",
    "\n",
    "> * [Flask by Example by Real Python](https://realpython.com/flask-by-example-part-1-project-setup/#project-setup)\n",
    "\n",
    "> * [Flask Mega Tutorial by Miguel Grinberg](https://courses.miguelgrinberg.com/courses/flask-mega-tutorial/lectures/5203689)\n",
    "\n",
    "> * [Flask Deployment Options](https://flask.palletsprojects.com/en/1.1.x/deploying/#deployment)"
   ]
  },
  {
   "cell_type": "markdown",
   "metadata": {},
   "source": [
    "<hr style=\"border: 2px solid#003262;\" />\n",
    "\n",
    "#### HW 3: FLASK + POSTGRESQL DEPLOYMENT\n",
    "\n",
    "<div align=\"center\" style=\"font-size:12px; font-family:FreeMono; font-weight: 100; font-stretch:ultra-condensed; line-height: 1.0; color:#2A2C2B\">\n",
    "    <img src=\"/assets/content/images/flask-03.png\" align=\"center\" width=\"30%\" padding=\"10\"><br>\n",
    "    <br>\n",
    "</div>\n",
    "\n",
    "<br>"
   ]
  },
  {
   "cell_type": "markdown",
   "metadata": {},
   "source": [
    "**Note:** there are various database(s) solutions to the particularities of your Flask implemenation. Since the [Data-X](https://datax.berkeley.edu/) curriculum is based on applied machine learning (and applied data science), we will be deploying a [**PostgreSQL**](https://www.postgresql.org/) database as it is commonly found in contemporary machine learning pipelines. \n",
    "\n",
    "This assignment assumes that hw_1 and hw_2 are fully working as requested, in *local host*.\n",
    "\n",
    "```bash\n",
    "/myFlaskPackage\n",
    "/venv\n",
    "/flaskApp\n",
    "/__init__.py\n",
    "/routes.py\n",
    "/config.py\n",
    "/templates\n",
    "    /base.html\n",
    "    /index.html\n",
    "    /login.html\n",
    "/static\n",
    "    /CSS\n",
    "        /main.css\n",
    "```"
   ]
  },
  {
   "cell_type": "markdown",
   "metadata": {},
   "source": []
  },
  {
   "cell_type": "markdown",
   "metadata": {},
   "source": []
  },
  {
   "cell_type": "markdown",
   "metadata": {},
   "source": [
    "<br>\n",
    "\n",
    "<hr style=\"border: 2px solid#003262;\" />\n",
    "\n",
    "### **DELIVERABLES**\n",
    "\n",
    "Please submit the following: \n",
    "\n",
    "> (1) Use the **m320_Setting-up-Flask** materials to create a virtual environment for work to be done.\n",
    "\n",
    "> (2) Take a screen capture of your localhost site once all of the above changes have been made.\n",
    "\n",
    "> (3) Submit the entire directory containing the updated and new files used to create the above.\n",
    "\n",
    "<hr style=\"border: 2px solid#003262;\" />"
   ]
  }
 ],
 "metadata": {
  "anaconda-cloud": {},
  "kernelspec": {
   "display_name": "Python 3",
   "language": "python",
   "name": "python3"
  },
  "language_info": {
   "codemirror_mode": {
    "name": "ipython",
    "version": 3
   },
   "file_extension": ".py",
   "mimetype": "text/x-python",
   "name": "python",
   "nbconvert_exporter": "python",
   "pygments_lexer": "ipython3",
   "version": "3.6.10"
  }
 },
 "nbformat": 4,
 "nbformat_minor": 2
}
