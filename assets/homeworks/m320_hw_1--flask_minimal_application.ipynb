{
 "cells": [
  {
   "cell_type": "markdown",
   "metadata": {},
   "source": [
    "<div align=\"center\">\n",
    "    <img src= \"/assets/content/datax_logos/DataX_blue_wide_logo.png\" align=\"center\" width=\"100%\">\n",
    "</div>\n",
    "\n",
    "### **HOMEWORK** 01 - **FLASK** MINIMAL **APPLICATION +**\n",
    "\n",
    "<br>\n",
    "\n",
    "<div align=\"center\" style=\"font-size:12px; font-family:FreeMono; font-weight: 100; font-stretch:ultra-condensed; line-height: 1.0; color:#2A2C2B\">\n",
    "    <img src=\"/assets/content/images/flask_logo.png\" align=\"center\" width=\"20%\" padding=\"10\"><br>\n",
    "    <br>\n",
    "</div>\n",
    "\n",
    "<br>\n",
    "\n",
    "<br>\n",
    "\n",
    "In **m320_Setting-up-Flask** we covered the components and steps required to set up a barebones [**Flask**](https://flask.palletsprojects.com/en/1.1.x/) environment. In this assignment we aim to expand on the previous work and introduce [**routing (decorators)**](https://flask.palletsprojects.com/en/1.1.x/api/#flask.Flask.route) and the [**extends**](https://flask.palletsprojects.com/en/1.1.x/patterns/templateinheritance/) statement -- thus allowing us to ultimately build a **Flask package**. This homework exercise will prepare the user for additional Flask materials in the [**Data-X**](https://datax.berkeley.edu/) curriculum.\n",
    "\n",
    "<br>\n",
    "\n",
    "**Author list:** [Elias Casto Hernandez](https://www.linkedin.com/in/ehcastroh/)\n",
    "\n",
    "**References and Additional Resources**\n",
    "<br>\n",
    "\n",
    "\n",
    "> * [Flask by Example by Real Python](https://realpython.com/flask-by-example-part-1-project-setup/#project-setup)\n",
    "\n",
    "> * [Flask Mega Tutorial by Miguel Grinberg](https://courses.miguelgrinberg.com/courses/flask-mega-tutorial/lectures/5203689)\n",
    "\n",
    "> * [Flask Deployment Options](https://flask.palletsprojects.com/en/1.1.x/deploying/#deployment)"
   ]
  },
  {
   "cell_type": "markdown",
   "metadata": {},
   "source": [
    "<hr style=\"border: 2px solid#003262;\" />\n",
    "\n",
    "#### HW 1: CREATING A FLASK PACKAGE\n",
    "\n",
    "<div align=\"center\" style=\"font-size:12px; font-family:FreeMono; font-weight: 100; font-stretch:ultra-condensed; line-height: 1.0; color:#2A2C2B\">\n",
    "    <img src=\"/assets/content/images/flask-03.png\" align=\"center\" width=\"30%\" padding=\"10\"><br>\n",
    "    <br>\n",
    "</div>\n",
    "\n",
    "<br>"
   ]
  },
  {
   "cell_type": "markdown",
   "metadata": {},
   "source": [
    "In **m320_Setting-up-Flask**, we created a **Flask module** with the following directory hierarchy:\n",
    "``` bash\n",
    "/myFlaskApp.py\n",
    "/venv\n",
    "/templates\n",
    "    /base.html\n",
    "    /home.html\n",
    "/static\n",
    "    /CSS\n",
    "        /main.css\n",
    "```"
   ]
  },
  {
   "cell_type": "markdown",
   "metadata": {},
   "source": [
    "In homework 1, we will be recreating the previous directory and expanding it to a **Flask package** with the following directory hierarchy and files:\n",
    "``` bash\n",
    "/myFlaskPackage\n",
    "/venv\n",
    "/flaskApp\n",
    "/__init__.py\n",
    "/routes.py\n",
    "/templates\n",
    "    /base.html\n",
    "    /index.html\n",
    "/static\n",
    "    /CSS\n",
    "        /main.css\n",
    "```"
   ]
  },
  {
   "cell_type": "markdown",
   "metadata": {},
   "source": [
    "**Note:** You can reuse code in order to do the following steps. However, you are encouraged to start from scratch so that you can think through the process."
   ]
  },
  {
   "cell_type": "markdown",
   "metadata": {},
   "source": [
    "___\n",
    "\n",
    "### **TO-DO**\n",
    "\n",
    "1) Use the **m320_Setting-up-Flask** materials as guidance to create the directory hierarchy detailed above."
   ]
  },
  {
   "cell_type": "markdown",
   "metadata": {},
   "source": [
    ">**Note:** You will need a virtual environment in order to continue. If you need help initializing your virtual environment, see **m320_Setting-up-Flask** for instructions on how to create the environment."
   ]
  },
  {
   "cell_type": "markdown",
   "metadata": {},
   "source": [
    "<br>\n",
    "\n",
    "2) Create a file named ```___init__.py``` for the **flaskApp package** (```/myFlaskPackage/flaskApp/__init__.py```) and include the following in the file:\n",
    "\n",
    "```python\n",
    "from flask import Flask\n",
    "\n",
    "app = Flask(__name__)\n",
    "\n",
    "from app import routes\n",
    "```"
   ]
  },
  {
   "cell_type": "markdown",
   "metadata": {},
   "source": [
    "<br>\n",
    "\n",
    "3) Add the following to the ```routes.py``` file:\n",
    "\n",
    "```python\n",
    "from app import app\n",
    "\n",
    "@app.route('/')\n",
    "@app.route('/index')\n",
    "def index():\n",
    "    user = {'username': 'Elias'} #feel free to change the user name to whatever you want\n",
    "    posts = [\n",
    "    {\n",
    "        'author': {'username': 'Don Quixote'},\n",
    "        'body': 'When life itself seems lunatic, who knows where madness lies?'\n",
    "    },\n",
    "    {\n",
    "        'author': {'username': 'King Arthur'},\n",
    "        'body': 'Old crone! Is there anywhere in this town where we could buy a shrubbery?'\n",
    "    }\n",
    "    return(''')\n",
    "```"
   ]
  },
  {
   "cell_type": "markdown",
   "metadata": {},
   "source": [
    "<br>\n",
    "\n",
    "4) Create a new file called ```index.html``` containing the following:\n",
    "\n",
    "```python\n",
    "{% extends \"base.html\" %}\n",
    "\n",
    "{% block content %}\n",
    "    <h2>Hello, {{ user.username }}!</h2>\n",
    "    <div><h4>Do you know where the following quote comes from?</h4></div>\n",
    "    {% for post in posts %}\n",
    "    <div><p>{{ post.author.username }} once said: <b>{{ post.body }}</b></p></div>\n",
    "    {% endfor %}\n",
    "{% endblock %}\n",
    "```"
   ]
  },
  {
   "cell_type": "markdown",
   "metadata": {},
   "source": [
    "<br>\n",
    "\n",
    "5) In the ```base.html``` file add the following:\n",
    "\n",
    "```html\n",
    "<!DOCTYPE html>\n",
    "<!-- THIS HTML SERVES AS THE BASE TEMPLATE FOR SITE -->\n",
    "<html lang=\"en\">\n",
    "<head>\n",
    "\t<!-- set html default global design -->\n",
    "    <meta charset=\"UTF-8\">\n",
    "    <meta name=\"viewport\" content=\"width=device-width, initial-scale=1.0\">\n",
    "    <meta http-equiv=\"X-UA-Compatible\" content=\"ie=edge\">\n",
    "\n",
    "    <!-- enable CSS design and pass main.css as string -->\n",
    "    <link rel=\"stylesheet\" herf=\"{{ url_for('static', filename='CSS/main.css')}}\">\n",
    "\n",
    "    <!-- check that site title is included, else default title -->\n",
    "    {% if title %}\n",
    "    <title>{{ title }} - site</title>\n",
    "    {% else %}\n",
    "    <title>Welcome to DataX - Site</title>\n",
    "    {% endif %}\n",
    "</head>\n",
    "<body>\n",
    "    <h1>Hello, {{ user.username }}!</h1>\n",
    "    <!-- iterate over the posts dictionary -->\n",
    "    {% for post in posts %}\n",
    "    <div><p>{{ post.author.username }} once said: <b>{{ post.body }}</b></p></div>\n",
    "    {% endfor %}\n",
    "</body>\n",
    "</html>\n",
    "```"
   ]
  },
  {
   "cell_type": "markdown",
   "metadata": {},
   "source": [
    "<br>\n",
    "\n",
    "6) Create a folder named ```css``` with a file named ```main.css``` containing the following:\n",
    "    \n",
    "```css\n",
    "/* set global design */\n",
    "body {\n",
    "\tmargin: 10;\n",
    "\tfont-family: sans-serif;\n",
    "}\n",
    "```"
   ]
  },
  {
   "cell_type": "markdown",
   "metadata": {},
   "source": [
    "<br>\n",
    "\n",
    "7) In the ```routes.py``` file, modify the ```index():``` function so that it utilizes the ```render_template()``` method to return the rendered ```index.html``` file but with the following place holders replaced with the following:\n",
    "\n",
    "```python\n",
    "title = 'Home'\n",
    "user = user\n",
    "posts = posts\n",
    "```"
   ]
  },
  {
   "cell_type": "markdown",
   "metadata": {},
   "source": [
    ">**Note:** If you are having a hard time understanding what is going on here, visit **m320_Setting-up-Flask** notebook and watch the **myFlaskApp.py** walkthrough for details on what you are changing."
   ]
  },
  {
   "cell_type": "markdown",
   "metadata": {},
   "source": [
    "<br>\n",
    "\n",
    "<hr style=\"border: 2px solid#003262;\" />\n",
    "\n",
    "### **DELIVERABLES**\n",
    "\n",
    "Please submit the following: \n",
    "\n",
    ">(1) Use the **m320_Setting-up-Flask** materials to create a virtual environment for the **Flask Package**.\n",
    "\n",
    ">(2) Take a screen capture showing your directory hierarchy as requested. This is done by ```$ pwd``` or ```$ ls -a``` or by expanding via a GUI.  \n",
    "\n",
    ">(3) Take a screen capture of your localhost site showing your rendered template as requested on item 7 above.\n",
    "\n",
    ">(4) Submit the entire directory containing the files created in this effort.\n",
    "\n",
    "<hr style=\"border: 2px solid#003262;\" />"
   ]
  },
  {
   "cell_type": "code",
   "execution_count": null,
   "metadata": {},
   "outputs": [],
   "source": []
  }
 ],
 "metadata": {
  "anaconda-cloud": {},
  "kernelspec": {
   "display_name": "Python 3",
   "language": "python",
   "name": "python3"
  },
  "language_info": {
   "codemirror_mode": {
    "name": "ipython",
    "version": 3
   },
   "file_extension": ".py",
   "mimetype": "text/x-python",
   "name": "python",
   "nbconvert_exporter": "python",
   "pygments_lexer": "ipython3",
   "version": "3.6.10"
  }
 },
 "nbformat": 4,
 "nbformat_minor": 2
}
