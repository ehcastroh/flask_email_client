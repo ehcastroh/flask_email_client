{
 "cells": [
  {
   "cell_type": "markdown",
   "metadata": {},
   "source": [
    "<div align=\"center\">\n",
    "    <img src= \"/assets/content/datax_logos/DataX_blue_wide_logo.png\" align=\"center\" width=\"100%\">\n",
    "</div>\n",
    "\n",
    "### **HOMEWORK** 03 - **FLASK** DATABASE **DEPLOYMENT**\n",
    "\n",
    "<br>\n",
    "\n",
    "<div align=\"center\" style=\"font-size:12px; font-family:FreeMono; font-weight: 100; font-stretch:ultra-condensed; line-height: 1.0; color:#2A2C2B\">\n",
    "    <img src=\"/assets/content/images/flask_logo.png\" align=\"center\" width=\"20%\" padding=\"10\"><br>\n",
    "    <br>\n",
    "</div>\n",
    "\n",
    "<br>\n",
    "\n",
    "<br>\n",
    "\n",
    "In **m320_hw_1--flask_minimal_application** we introduced [**routing (decorators)**](https://flask.palletsprojects.com/en/1.1.x/api/#flask.Flask.route), the [**extends**](https://flask.palletsprojects.com/en/1.1.x/patterns/templateinheritance/) statement, and how to build a **Flask package**. The work on **m320_hw_2--flask_wtf** covered [**web forms** and **form validation**](https://flask.palletsprojects.com/en/1.1.x/patterns/wtforms/). This notebook covers Flask [**database server deployment**](https://flask.palletsprojects.com/en/1.1.x/deploying/#deployment), instead of the more barebones [**SQLite**](https://flask.palletsprojects.com/en/1.1.x/patterns/sqlite3/) disk-based database system used in the introductory coursework. \n",
    "\n",
    "In order to successfully complete this assignment, make sure you've watched the myFlaskApp.py walkthrough video, as it discusses in a general way what you are being asked to do.\n",
    "<br>\n",
    "\n",
    "**Author list:** [Elias Casto Hernandez](https://www.linkedin.com/in/ehcastroh/)\n",
    "\n",
    "**References and Additional Resources**\n",
    "<br>\n",
    "\n",
    "\n",
    "> * [Flask by Example by Real Python](https://realpython.com/flask-by-example-part-1-project-setup/#project-setup)\n",
    "\n",
    "> * [Flask Mega Tutorial by Miguel Grinberg](https://courses.miguelgrinberg.com/courses/flask-mega-tutorial/lectures/5203689)\n",
    "\n",
    "> * [Flask Database Server Options](https://flask.palletsprojects.com/en/1.1.x/tutorial/database/?highlight=database)"
   ]
  },
  {
   "cell_type": "markdown",
   "metadata": {},
   "source": [
    "<hr style=\"border: 2px solid#003262;\" />\n",
    "\n",
    "#### HW 3: FLASK + POSTGRESQL\n",
    "\n",
    "<div align=\"center\" style=\"font-size:12px; font-family:FreeMono; font-weight: 100; font-stretch:ultra-condensed; line-height: 1.0; color:#2A2C2B\">\n",
    "    <img src=\"/assets/content/images/flask-03.png\" align=\"center\" width=\"30%\" padding=\"10\"><br>\n",
    "    <br>\n",
    "</div>\n",
    "\n",
    "<br>"
   ]
  },
  {
   "cell_type": "markdown",
   "metadata": {},
   "source": [
    "**Note:** there are various database(s) solutions to the particularities of your Flask implementation. Since the [Data-X](https://datax.berkeley.edu/) curriculum is focused on applied machine learning (and applied data science), we will be deploying a [**PostgreSQL**](https://www.postgresql.org/) database as it is commonly found in contemporary machine learning pipelines. Moreover, the next homework -- **m320_hw_4--flask_on_heroky** -- is deployed on Heroku, which uses Postgres. See [here](https://flask.palletsprojects.com/en/1.1.x/tutorial/database/?highlight=database) to learn how to connect Flask to your database of choice.\n",
    "\n",
    "This assignment assumes that hw_1 and hw_2 are fully working as requested, in *local host*.\n",
    "\n",
    "```bash\n",
    "/myFlaskPackage\n",
    "/venv\n",
    "/flaskApp\n",
    "/__init__.py\n",
    "/routes.py\n",
    "/config.py\n",
    "/manage.py         # created in hw_3\n",
    "/templates\n",
    "    /base.html\n",
    "    /index.html\n",
    "    /login.html\n",
    "/static\n",
    "    /CSS\n",
    "        /main.css\n",
    "```"
   ]
  },
  {
   "cell_type": "markdown",
   "metadata": {},
   "source": [
    "___\n",
    "\n",
    "### **TO-DO**"
   ]
  },
  {
   "cell_type": "markdown",
   "metadata": {},
   "source": [
    "0) Install PostgreSQL\n",
    "\n",
    "https://www.postgresql.org/download/\n",
    "\n",
    "```bash\n",
    "# in local machine\n",
    "$ sudo apt-get install postgresql\n",
    "```\n",
    "\n",
    "or"
   ]
  },
  {
   "cell_type": "markdown",
   "metadata": {},
   "source": [
    "```bash\n",
    "# in a virtual environment install sqlalchemy\n",
    "(venv) $ pip install flask-sqlalchemy\n",
    "```"
   ]
  },
  {
   "cell_type": "markdown",
   "metadata": {},
   "source": [
    "___\n",
    "\n",
    "**Note:** If you need help initializing your virtual environment, see **m320_Setting-up-Flask** for instructions on how to create the environment.\n",
    "___"
   ]
  },
  {
   "cell_type": "markdown",
   "metadata": {},
   "source": [
    "<br>\n",
    "\n",
    "00) Install Flask-Migrate \n",
    "\n",
    "https://github.com/miguelgrinberg/flask-migrate\n",
    "\n",
    "\n",
    "```bash\n",
    "# make sure you are in a virtual environment \n",
    "(venv) $ pip install flask-migrate\n",
    "```"
   ]
  },
  {
   "cell_type": "markdown",
   "metadata": {},
   "source": [
    "<br>\n",
    "\n",
    "1) Create a PostgreSQL database\n",
    "\n",
    "```sql \n",
    "$ psql\n",
    "# create database mypostgresDB;\n",
    "CREATE DATABASE\n",
    "# \\q\n",
    "```\n"
   ]
  },
  {
   "cell_type": "markdown",
   "metadata": {},
   "source": [
    "<br>\n",
    "\n",
    "2) Update configuration, ```config.py```, file -- it should now look like this:\n",
    "\n",
    "```python\n",
    "import os\n",
    "basedir = os.path.abspath(os.path.dirname(__file__))\n",
    "\n",
    "class Config(object):\n",
    "    DEBUG = False\n",
    "    TESTING = False\n",
    "    CSRF_ENABLED = True\n",
    "    SECRET_KEY = os.environ.get('SECRET_KEY') or 'never-gonna-guess'\n",
    "    SQLALCHEMY_DATABASE_URI = os.environ['DATABASE_URL']\n",
    "\n",
    "# configure production\n",
    "class ProductionConfig(Config):\n",
    "    DEBUG = FALSE\n",
    "\n",
    "# configure staging\n",
    "class StagingConfig(Config):\n",
    "    Development = True\n",
    "    Debug = True\n",
    "    \n",
    "class DevelopmentConfig(Config):\n",
    "    DEVELOPMENT = True\n",
    "    DEBUG = True\n",
    "\n",
    "class TestingConfig(Config):\n",
    "    TESTING = True\n",
    "```"
   ]
  },
  {
   "cell_type": "markdown",
   "metadata": {},
   "source": [
    "<br>\n",
    "\n",
    "3) Add ```DATABASE_URL``` variable to ```mypostgresDB``` database (done in local environment)\n",
    "\n",
    "```shell\n",
    "$ export DATABASE_URL=\"postgresql:///mypostgresDB\"\n",
    "```"
   ]
  },
  {
   "cell_type": "markdown",
   "metadata": {},
   "source": [
    "<br>\n",
    "\n",
    "4) Update the ```__init__.py``` file to contain the following:\n",
    "\n",
    "```python\n",
    "from flask import Flask\n",
    "from flask_sqlalchemy import SQLAlchemy\n",
    "from config import Config\n",
    "from flask_migrate import Migrate\n",
    "import os\n",
    "\n",
    "app = Flask(__name__)\n",
    "app.config.from_object(Config)\n",
    "# initialize database by passing app object defined above\n",
    "db = SQLAlchemy(app)\n",
    "migrate = Migrate(app, db)\n",
    "\n",
    "app.config.from_object(Config)\n",
    "app.config.from_object(os.environ['APP_SETTINGS'])\n",
    "app.config['SQLALCHEMY_TRACK_MODIFICATIONS'] = False\n",
    "db = SQLAlchemy(app)\n",
    "\n",
    "from models import Result\n",
    "from app import routes, model\n",
    "\n",
    "\n",
    "```\n",
    "    "
   ]
  },
  {
   "cell_type": "markdown",
   "metadata": {},
   "source": [
    "<br>\n",
    "\n",
    "5) create new module ```models.py``` for creating data entries, and enter the following:\n",
    "\n",
    "```python\n",
    "from datetime import datetime\n",
    "from app import db\n",
    "\n",
    "# create class and define initial database schema\n",
    "class userEmail(db.Model):\n",
    "\t# create visit id\n",
    "\tid = db.Column(db.Integer, primary_key=True)\n",
    "\t# request user name\n",
    "\tusername = db.Column(db.String(64), index=True, unique=True)\n",
    "\t# set max-characters to 200 and require that field be completed\n",
    "\temail = db.Column(db.String(200), nullable = False, unique=True)\n",
    "\t# inaccessible column to keep track of submissions\n",
    "\tcompleted = db.Column(db.Integer, default = 0)\n",
    "\t# track date of email submission\n",
    "\tdate_submitted = db.Column(db.DateTime, default=datetime.utcnow)\n",
    "    posts = db.relationship('Post', backref='author', lazy='dynamic')\n",
    "\n",
    "\t# function to return notice of data entry\n",
    "\tdef __repr__(self):\n",
    "\t\t# string formatting converts the self.id value to a string using repr()\n",
    "\t\treturn '<userEmail {}>'.format(self.email)\n",
    "\n",
    "# create class for updating database entries (blog)    \n",
    "class Post(db.Model):\n",
    "    id = db.Column(db.Integer, primary_key=True)\n",
    "    body = db.Column(db.String(140))\n",
    "    timestamp = db.Column(db.DateTime, index=True, default=datetime.utcnow)\n",
    "    # references id value from user's table\n",
    "    user_id = db.Column(db.Integer, db.ForeignKey('user.id'))\n",
    "\n",
    "    # return string of posted body content\n",
    "    def __repr__(self):\n",
    "        return '<Post {}>'.format(self.body)\n",
    "```"
   ]
  },
  {
   "cell_type": "markdown",
   "metadata": {},
   "source": [
    "<br>\n",
    "\n",
    "6) Create a new file name ```manage.py``` to handle database migrations. It should contain the following:\n",
    "\n",
    "```python\n",
    "import os\n",
    "from flask_script import Manager\n",
    "from flask_migrate import Migrate, MigrateCommand\n",
    "\n",
    "from app import app, db\n",
    "\n",
    "\n",
    "app.config.from_object(os.environ['APP_SETTINGS'])\n",
    "\n",
    "migrate = Migrate(app, db)\n",
    "manager = Manager(app)\n",
    "\n",
    "manager.add_command('db', MigrateCommand)\n",
    "\n",
    "\n",
    "if __name__ == '__main__':\n",
    "    manager.run()\n",
    "\n",
    "```"
   ]
  },
  {
   "cell_type": "markdown",
   "metadata": {},
   "source": [
    "<br>\n",
    "\n",
    "7) Run migrations using Alembic and Migrate\n",
    "\n",
    ">Initialize database\n",
    "```bash\n",
    "$ python manage.py db init\n",
    "```\n",
    "\n",
    "**Note:** running this database initialization command will create a new folder in the working directory, as specified in item 3). If unsure of what is happening up-to this point, what the **myFlaskApp.py** walkthrough video as it will explain a simplified version of this process."
   ]
  },
  {
   "cell_type": "markdown",
   "metadata": {},
   "source": [
    ">Migrate database\n",
    "```bash\n",
    "$ python manage.py db migrate\n",
    "```"
   ]
  },
  {
   "cell_type": "markdown",
   "metadata": {},
   "source": [
    ">Upgrade database\n",
    "```bash\n",
    "$ python manage.py db upgrade\n",
    "```"
   ]
  },
  {
   "cell_type": "markdown",
   "metadata": {},
   "source": [
    "<br>\n",
    "\n",
    "<hr style=\"border: 2px solid#003262;\" />\n",
    "\n",
    "### **DELIVERABLES**\n",
    "\n",
    "Please submit the following: \n",
    "\n",
    ">(1) Use the **m320_Setting-up-Flask** materials to create a virtual environment for work to be done."
   ]
  },
  {
   "cell_type": "markdown",
   "metadata": {},
   "source": [
    ">(2) Create a python prompt like in Concept Check Two in the **m320_Setting-up-Flask** notebook. Then enter the following:\n",
    "\n",
    "```python\n",
    ">>>from app import db\n",
    ">>>from app.models import userEmail, Post\n",
    "# create a new user\n",
    ">>> u = userEmail(username='Elias', email='elias@example.com')\n",
    "```\n",
    "\n",
    "In a few sentences, explain what happens when you execute the following commands ```db.session.add(u)```, ```db.session.commit()```, and ```db.session.rollback()```"
   ]
  },
  {
   "cell_type": "markdown",
   "metadata": {},
   "source": [
    ">(3) Add as many new users as you want using deliverable 2 as an example. Then query the user names by iterating over the following object. Provide a screen capture of this step.\n",
    "```python\n",
    ">>> all_users = userEmail.query.all()\n",
    ">>> all_users # what is the output here?\n",
    "```\n"
   ]
  },
  {
   "cell_type": "markdown",
   "metadata": {},
   "source": [
    ">(4) Enter the following command \n",
    "\n",
    "```sql\n",
    "    $ psql\n",
    "    # \\c mypostgresDB\n",
    "```\n",
    "\n",
    "you should receive a response along the lines of \n",
    "\n",
    "```You are now connected to database \"mypostgresDB\"```...\n",
    "\n"
   ]
  },
  {
   "cell_type": "markdown",
   "metadata": {},
   "source": [
    "Once you receive the message above, enter the following two commands, do screen capture(s) for each, and submit them with your complete directory and files:\n",
    "    \n",
    "```sql\n",
    "# \\dt\n",
    "```"
   ]
  },
  {
   "cell_type": "markdown",
   "metadata": {},
   "source": [
    "and \n",
    "\n",
    "```sql\n",
    "# \\d results\n",
    "```\n",
    "\n",
    "<hr style=\"border: 2px solid#003262;\" />"
   ]
  }
 ],
 "metadata": {
  "anaconda-cloud": {},
  "kernelspec": {
   "display_name": "Python 3",
   "language": "python",
   "name": "python3"
  },
  "language_info": {
   "codemirror_mode": {
    "name": "ipython",
    "version": 3
   },
   "file_extension": ".py",
   "mimetype": "text/x-python",
   "name": "python",
   "nbconvert_exporter": "python",
   "pygments_lexer": "ipython3",
   "version": "3.6.10"
  }
 },
 "nbformat": 4,
 "nbformat_minor": 2
}
